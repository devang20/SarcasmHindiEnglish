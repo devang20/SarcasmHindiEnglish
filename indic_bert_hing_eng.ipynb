{
 "cells": [
  {
   "cell_type": "code",
   "execution_count": 1,
   "id": "46bb5b19",
   "metadata": {},
   "outputs": [
    {
     "name": "stderr",
     "output_type": "stream",
     "text": [
      "2023-05-11 22:43:50.339860: W tensorflow/stream_executor/platform/default/dso_loader.cc:64] Could not load dynamic library 'libcudart.so.11.0'; dlerror: libcudart.so.11.0: cannot open shared object file: No such file or directory\n",
      "2023-05-11 22:43:50.339901: I tensorflow/stream_executor/cuda/cudart_stub.cc:29] Ignore above cudart dlerror if you do not have a GPU set up on your machine.\n"
     ]
    }
   ],
   "source": [
    "import pandas as pd\n",
    "import regex as re\n",
    "from collections import Counter\n",
    "import emoji\n",
    "from gensim.models.word2vec import Word2Vec\n",
    "import nltk\n",
    "#from nltk import word_tokenize--->\n",
    "from gensim.models import FastText\n",
    "from gensim.models import KeyedVectors\n",
    "#from nltk.tokenize import word_tokenize\n",
    "from sklearn.model_selection import train_test_split\n",
    "from sklearn.metrics import accuracy_score\n",
    "from sklearn.metrics import classification_report\n",
    "from sklearn.metrics import accuracy_score\n",
    "from sklearn.decomposition import PCA\n",
    "from sklearn.preprocessing import StandardScaler\n",
    "from sklearn.metrics import confusion_matrix, ConfusionMatrixDisplay\n",
    "import numpy as np\n",
    "import matplotlib.pyplot as plt\n",
    "from tqdm import tqdm\n",
    "from gensim.models.callbacks import CallbackAny2Vec\n",
    "#import matplotlib.pyplot as plt\n",
    "import keras\n",
    "#from keras.preprocessing.text import Tokenizer--->\n",
    "from keras.utils.data_utils import pad_sequences\n",
    "#from keras.initializers import Constant\n",
    "from keras.layers import ReLU\n",
    "from keras.layers import Dropout\n",
    "from keras.models import Sequential\n",
    "from keras.layers import Dense, Flatten, Embedding, Input, LSTM, Bidirectional, TimeDistributed, Conv1D, MaxPooling1D, GlobalMaxPooling1D\n",
    "from keras.optimizers import Adam\n",
    "from keras import Model\n",
    "from keras.models import load_model\n",
    "from keras.callbacks import EarlyStopping\n",
    "from tensorflow.keras.utils import to_categorical\n",
    "import math\n",
    "import torch\n",
    "#import torch.nn as nn\n",
    "import tensorflow as tf\n",
    "#nltk.download('punkt')"
   ]
  },
  {
   "cell_type": "code",
   "execution_count": 2,
   "id": "808aa4d1",
   "metadata": {},
   "outputs": [
    {
     "name": "stdout",
     "output_type": "stream",
     "text": [
      "422415\n",
      "Index(['tweet_text'], dtype='object')\n"
     ]
    }
   ],
   "source": [
    "df_hing_eng = pd.read_pickle('dataset/hinglish_english_tweet_ids_data.pkl')\n",
    "#print(df_hing_eng.columns)\n",
    "#print(df_hing_eng[['tweet_text']])\n",
    "#df_hing_eng = df_hing_eng['tweet_text']\n",
    "df_hing_eng = df_hing_eng[['tweet_text']].copy()\n",
    "print(len(df_hing_eng))\n",
    "print(df_hing_eng.columns)"
   ]
  },
  {
   "cell_type": "code",
   "execution_count": 3,
   "id": "066b314c",
   "metadata": {},
   "outputs": [
    {
     "name": "stdout",
     "output_type": "stream",
     "text": [
      "17695\n",
      "                                               tweet_text\n",
      "368     Chitti ai hai ai hai chitthi ai hai = I have m...\n",
      "372     Chitti ai hai ai hai chitthi ai hai = I have m...\n",
      "393                    Kim Kardashian is virgin. #sarcasm\n",
      "394                    Kim Kardashian is virgin. #sarcasm\n",
      "423                    Kim Kardashian is virgin. #sarcasm\n",
      "...                                                   ...\n",
      "422093                                                 hi\n",
      "422100                                   is going to bed.\n",
      "422121                                             nothin\n",
      "422141                                           wakes up\n",
      "422251                                      in the office\n",
      "\n",
      "[17695 rows x 1 columns]\n"
     ]
    }
   ],
   "source": [
    "#finds the duplicate rows in the unlabeled Hinglish-English data\n",
    "\n",
    "duplicate_1 = df_hing_eng[df_hing_eng.duplicated(keep='first')]\n",
    "print(len(duplicate_1))\n",
    "print(duplicate_1)\n",
    "#print(type(duplicate_1))"
   ]
  },
  {
   "cell_type": "code",
   "execution_count": 4,
   "id": "f5303f44",
   "metadata": {},
   "outputs": [
    {
     "name": "stdout",
     "output_type": "stream",
     "text": [
      "404720\n",
      "0\n",
      "Index(['tweet_text'], dtype='object')\n"
     ]
    }
   ],
   "source": [
    "#removes duplicates\n",
    "\n",
    "df_hing_eng = df_hing_eng.drop_duplicates(keep='first')\n",
    "print(len(df_hing_eng))\n",
    "\n",
    "duplicate_2 = df_hing_eng[df_hing_eng.duplicated(keep='first')]\n",
    "print(len(duplicate_2))\n",
    "print(df_hing_eng.columns)"
   ]
  },
  {
   "cell_type": "code",
   "execution_count": 5,
   "id": "79c7b162",
   "metadata": {},
   "outputs": [
    {
     "name": "stdout",
     "output_type": "stream",
     "text": [
      "94788\n",
      "Index(['tweet_text', 'is_sarcastic'], dtype='object')\n"
     ]
    }
   ],
   "source": [
    "df_labeled = pd.read_pickle('dataset/data_soumyadeep.pkl')\n",
    "df_labeled = df_labeled[['tweet_text', 'is_sarcastic']].copy()\n",
    "print(len(df_labeled))\n",
    "print(df_labeled.columns)"
   ]
  },
  {
   "cell_type": "code",
   "execution_count": 6,
   "id": "2893e63f",
   "metadata": {},
   "outputs": [
    {
     "name": "stdout",
     "output_type": "stream",
     "text": [
      "2895\n",
      "                                              tweet_text  is_sarcastic\n",
      "354    RT Apna vyauhar hoga aise jal mein kamal rehat...             0\n",
      "630    @fittaymunhapka n osky baad amMi ny kha k kuch...             0\n",
      "686    RT Teen behan ke baad jo aata putra woh trekha...             0\n",
      "809    Ek aadmi pareshan ho kar Ae bhagwan aisi zinda...             1\n",
      "844    RT Teen behan ke baad jo aata putra woh trekha...             0\n",
      "...                                                  ...           ...\n",
      "94716  RT Teen behan ke baad jo aata putra woh trekha...             0\n",
      "94721  Roz badh'taa huun jahaa'n se aage // Phir wahi...             0\n",
      "94747  RT Chhoota vaibhav schooli shiksha shooro ho g...             0\n",
      "94756                                kya hoga is desh ka             0\n",
      "94763  @rjauhari lol  unka bhi mast hoga..koi recessi...             0\n",
      "\n",
      "[2895 rows x 2 columns]\n"
     ]
    }
   ],
   "source": [
    "#finds the duplicate rows in the labeled data\n",
    "\n",
    "duplicate_3 = df_labeled[df_labeled.duplicated(subset=['tweet_text'], keep='first')]\n",
    "print(len(duplicate_3))\n",
    "print(duplicate_3)"
   ]
  },
  {
   "cell_type": "code",
   "execution_count": 7,
   "id": "938e273d",
   "metadata": {},
   "outputs": [
    {
     "name": "stdout",
     "output_type": "stream",
     "text": [
      "91893\n",
      "0\n",
      "Index(['tweet_text', 'is_sarcastic'], dtype='object')\n"
     ]
    }
   ],
   "source": [
    "#removes duplicates from labeled data\n",
    "\n",
    "df_labeled = df_labeled.drop_duplicates(subset=['tweet_text'], keep='first')\n",
    "print(len(df_labeled))\n",
    "\n",
    "duplicate_4 = df_labeled[df_labeled.duplicated(keep='first')]\n",
    "print(len(duplicate_4))\n",
    "print(df_labeled.columns)"
   ]
  },
  {
   "cell_type": "code",
   "execution_count": 8,
   "id": "f6f9b444",
   "metadata": {},
   "outputs": [
    {
     "name": "stdout",
     "output_type": "stream",
     "text": [
      "                                              tweet_text  is_sarcastic\n",
      "0      @ajuonline #sarcasm Haal chaal thik thak hai-s...             1\n",
      "1               @I_Am_Hollywood - Charlie Haas? #sarcasm             1\n",
      "2                       Chetan Bhagat #epicmale #sarcasm             1\n",
      "3      @Bo_jasim86 LOOL 7atheer affaa 3allaik rgoobti...             1\n",
      "4      @FENUSF tees2al 3anek el 3afiaa 7abeeb galbe ,...             1\n",
      "...                                                  ...           ...\n",
      "54025   BHAI NEEND HEE NI ARAHI AKHIR KIA MAZAK HAI??)??             1\n",
      "54026  - Neend Toh Bachpan Mein Aaya Karti Thi..!! - ...             1\n",
      "54027  aik larki late night neend se jagi aur.. fb pe...             1\n",
      "54028  @FarahKhanAli really funny.. lagta hai.... sub...             1\n",
      "54029  @Rudeicious ab tum meri neend ka aise Mazak ur...             1\n",
      "\n",
      "[54030 rows x 2 columns]\n"
     ]
    },
    {
     "data": {
      "text/plain": [
       "54030"
      ]
     },
     "execution_count": 8,
     "metadata": {},
     "output_type": "execute_result"
    }
   ],
   "source": [
    "#finds the common rows between unlabeled Hinglish English embedding data and labeled data\n",
    "\n",
    "common_rows = pd.merge(df_hing_eng, df_labeled, how = 'inner', on=['tweet_text'])\n",
    "print(common_rows)\n",
    "len(common_rows)\n",
    "#print(type(common_rows))"
   ]
  },
  {
   "cell_type": "code",
   "execution_count": 9,
   "id": "32aae026",
   "metadata": {},
   "outputs": [
    {
     "name": "stdout",
     "output_type": "stream",
     "text": [
      "350690\n",
      "Index(['tweet_text'], dtype='object')\n",
      "0\n"
     ]
    }
   ],
   "source": [
    "#removes all the common rows from unlabeled data\n",
    "\n",
    "#cond = df1['Email'].isin(df2['Email'])\n",
    "#df1.drop(df1[cond].index, inplace = True)\n",
    "\n",
    "common = df_hing_eng['tweet_text'].isin(df_labeled['tweet_text'])\n",
    "df_hing_eng.drop(df_hing_eng[common].index, inplace=True)\n",
    "print(len(df_hing_eng))\n",
    "print(df_hing_eng.columns)\n",
    "\n",
    "common_rows2 = pd.merge(df_hing_eng, df_labeled, how = 'inner', on=['tweet_text'])\n",
    "#print(common_rows2)\n",
    "print(len(common_rows2))"
   ]
  },
  {
   "cell_type": "code",
   "execution_count": 10,
   "id": "add02704",
   "metadata": {},
   "outputs": [
    {
     "name": "stderr",
     "output_type": "stream",
     "text": [
      "/tmp/ipykernel_4276/2924867879.py:6: FutureWarning: The default value of regex will change from True to False in a future version.\n",
      "  source = source.str.replace(\"\\w*\\d\\w*\",\"\") #removes all words containing numbers\n",
      "/tmp/ipykernel_4276/2924867879.py:10: FutureWarning: The default value of regex will change from True to False in a future version.\n",
      "  source = source.str.replace(\"[@A-Za-z0-9_]*@[@A-Za-z0-9_]*\",\"\")\n",
      "/tmp/ipykernel_4276/2924867879.py:12: FutureWarning: The default value of regex will change from True to False in a future version.\n",
      "  source = source.str.replace(\"[#A-Za-z0-9_]*#[#A-Za-z0-9_]*\",\"\")\n",
      "/tmp/ipykernel_4276/2924867879.py:13: FutureWarning: The default value of regex will change from True to False in a future version.\n",
      "  source = source.str.replace(\"\\s+|[!$%&()*+, -./:;<=>?\\^_`{|}~]\\s*\",\" \")\n",
      "/tmp/ipykernel_4276/2924867879.py:14: FutureWarning: The default value of regex will change from True to False in a future version.\n",
      "  source = source.str.replace(\"http\\S+\",\"\")\n"
     ]
    },
    {
     "data": {
      "text/html": [
       "<div>\n",
       "<style scoped>\n",
       "    .dataframe tbody tr th:only-of-type {\n",
       "        vertical-align: middle;\n",
       "    }\n",
       "\n",
       "    .dataframe tbody tr th {\n",
       "        vertical-align: top;\n",
       "    }\n",
       "\n",
       "    .dataframe thead th {\n",
       "        text-align: right;\n",
       "    }\n",
       "</style>\n",
       "<table border=\"1\" class=\"dataframe\">\n",
       "  <thead>\n",
       "    <tr style=\"text-align: right;\">\n",
       "      <th></th>\n",
       "      <th>tweet_text</th>\n",
       "    </tr>\n",
       "  </thead>\n",
       "  <tbody>\n",
       "    <tr>\n",
       "      <th>167</th>\n",
       "      <td>dary emratiba</td>\n",
       "    </tr>\n",
       "    <tr>\n",
       "      <th>194</th>\n",
       "      <td>yograj singh  dhoni advised dd management to r...</td>\n",
       "    </tr>\n",
       "    <tr>\n",
       "      <th>200</th>\n",
       "      <td>seedhe log hai ma beta ab  crore ka ghotala ho...</td>\n",
       "    </tr>\n",
       "    <tr>\n",
       "      <th>309</th>\n",
       "      <td>ab ham khade ho gaye hain   ab ham aur bhi dar...</td>\n",
       "    </tr>\n",
       "    <tr>\n",
       "      <th>470</th>\n",
       "      <td>make up hayoona</td>\n",
       "    </tr>\n",
       "  </tbody>\n",
       "</table>\n",
       "</div>"
      ],
      "text/plain": [
       "                                            tweet_text\n",
       "167                                      dary emratiba\n",
       "194  yograj singh  dhoni advised dd management to r...\n",
       "200  seedhe log hai ma beta ab  crore ka ghotala ho...\n",
       "309  ab ham khade ho gaye hain   ab ham aur bhi dar...\n",
       "470                                    make up hayoona"
      ]
     },
     "execution_count": 10,
     "metadata": {},
     "output_type": "execute_result"
    }
   ],
   "source": [
    "#removes mentions, '#', emojis, punctuations, special chars, URLs, words containing numbers, spaces from beginning and end of tweets\n",
    "\n",
    "def data_preprocessing(source):\n",
    "    \n",
    "    source = source.str.lower() #lower case chars\n",
    "    source = source.str.replace(\"\\w*\\d\\w*\",\"\") #removes all words containing numbers\n",
    "    #source = source.str.replace(\"#\", \"\")\n",
    "    #source = source.str.replace(\"@\", \"\")\n",
    "    #source = source.str.replace(\"@[A-Za-z0-9_]+\",\"\")\n",
    "    source = source.str.replace(\"[@A-Za-z0-9_]*@[@A-Za-z0-9_]*\",\"\")\n",
    "    #source = source.str.replace(\"#[A-Za-z0-9_]+\",\"\")\n",
    "    source = source.str.replace(\"[#A-Za-z0-9_]*#[#A-Za-z0-9_]*\",\"\")\n",
    "    source = source.str.replace(\"\\s+|[!$%&()*+, -./:;<=>?\\^_`{|}~]\\s*\",\" \")\n",
    "    source = source.str.replace(\"http\\S+\",\"\")\n",
    "    \n",
    "    return source\n",
    "\n",
    "df_hing_eng['tweet_text'] = data_preprocessing(df_hing_eng['tweet_text'])\n",
    "df_hing_eng['tweet_text'] = df_hing_eng['tweet_text'].apply(lambda s: emoji.replace_emoji(s,\"\"))\n",
    "df_hing_eng['tweet_text'] = df_hing_eng['tweet_text'].str.strip()\n",
    "df_hing_eng.head()"
   ]
  },
  {
   "cell_type": "code",
   "execution_count": 11,
   "id": "ed25c20c",
   "metadata": {},
   "outputs": [
    {
     "data": {
      "text/html": [
       "<div>\n",
       "<style scoped>\n",
       "    .dataframe tbody tr th:only-of-type {\n",
       "        vertical-align: middle;\n",
       "    }\n",
       "\n",
       "    .dataframe tbody tr th {\n",
       "        vertical-align: top;\n",
       "    }\n",
       "\n",
       "    .dataframe thead th {\n",
       "        text-align: right;\n",
       "    }\n",
       "</style>\n",
       "<table border=\"1\" class=\"dataframe\">\n",
       "  <thead>\n",
       "    <tr style=\"text-align: right;\">\n",
       "      <th></th>\n",
       "      <th>tweet_text</th>\n",
       "    </tr>\n",
       "  </thead>\n",
       "  <tbody>\n",
       "    <tr>\n",
       "      <th>167</th>\n",
       "      <td>dary emratiba</td>\n",
       "    </tr>\n",
       "    <tr>\n",
       "      <th>194</th>\n",
       "      <td>yograj singh  dhoni advised dd management to r...</td>\n",
       "    </tr>\n",
       "    <tr>\n",
       "      <th>200</th>\n",
       "      <td>seedhe log hai ma beta ab  crore ka ghotala ho...</td>\n",
       "    </tr>\n",
       "    <tr>\n",
       "      <th>309</th>\n",
       "      <td>ab ham khade ho gaye hain   ab ham aur bhi dar...</td>\n",
       "    </tr>\n",
       "    <tr>\n",
       "      <th>470</th>\n",
       "      <td>make up hayoona</td>\n",
       "    </tr>\n",
       "    <tr>\n",
       "      <th>571</th>\n",
       "      <td>cut marna koi umar se seekhay  nahi seekhay in...</td>\n",
       "    </tr>\n",
       "    <tr>\n",
       "      <th>804</th>\n",
       "      <td>woh jo kar rahe haen woh desh sewa hae politic...</td>\n",
       "    </tr>\n",
       "    <tr>\n",
       "      <th>905</th>\n",
       "      <td>u r aapne chaata nahi ki tarah pehle buta ab m...</td>\n",
       "    </tr>\n",
       "    <tr>\n",
       "      <th>1077</th>\n",
       "      <td>bhai tu ek vaio mini laptop le le</td>\n",
       "    </tr>\n",
       "    <tr>\n",
       "      <th>1277</th>\n",
       "      <td>aanaayi janichirunengil kashtapettu cash undak...</td>\n",
       "    </tr>\n",
       "  </tbody>\n",
       "</table>\n",
       "</div>"
      ],
      "text/plain": [
       "                                             tweet_text\n",
       "167                                       dary emratiba\n",
       "194   yograj singh  dhoni advised dd management to r...\n",
       "200   seedhe log hai ma beta ab  crore ka ghotala ho...\n",
       "309   ab ham khade ho gaye hain   ab ham aur bhi dar...\n",
       "470                                     make up hayoona\n",
       "571   cut marna koi umar se seekhay  nahi seekhay in...\n",
       "804   woh jo kar rahe haen woh desh sewa hae politic...\n",
       "905   u r aapne chaata nahi ki tarah pehle buta ab m...\n",
       "1077                  bhai tu ek vaio mini laptop le le\n",
       "1277  aanaayi janichirunengil kashtapettu cash undak..."
      ]
     },
     "execution_count": 11,
     "metadata": {},
     "output_type": "execute_result"
    }
   ],
   "source": [
    "#removes all the rows with empty lists\n",
    "\n",
    "df_hing_eng=df_hing_eng[df_hing_eng['tweet_text'].map(lambda d: len(d)) > 0]\n",
    "df_hing_eng.head(10)"
   ]
  },
  {
   "cell_type": "code",
   "execution_count": 12,
   "id": "053e80cf",
   "metadata": {},
   "outputs": [
    {
     "name": "stdout",
     "output_type": "stream",
     "text": [
      "['dary emratiba', 'yograj singh  dhoni advised dd management to release yuvraj   p', 'seedhe log hai ma beta ab  crore ka ghotala ho gaya hoga ab ispe court case karne ki kya jaroorat thi', 'ab ham khade ho gaye hain   ab ham aur bhi daraayenge', 'make up hayoona']\n"
     ]
    }
   ],
   "source": [
    "unlabeled_data = list(df_hing_eng['tweet_text'])\n",
    "print(unlabeled_data[0:5])\n"
   ]
  },
  {
   "cell_type": "code",
   "execution_count": 13,
   "id": "2ba22663",
   "metadata": {},
   "outputs": [
    {
     "name": "stdout",
     "output_type": "stream",
     "text": [
      "209616\n"
     ]
    }
   ],
   "source": [
    "#finds the unique words in the unlabeled data\n",
    "\n",
    "unique_words = set()\n",
    "df_hing_eng['tweet_text'].str.lower().str.split().apply(unique_words.update)\n",
    "unique_words = list(unique_words)\n",
    "#print(unique_words)\n",
    "#print('---------------')\n",
    "print(len(unique_words))"
   ]
  },
  {
   "cell_type": "code",
   "execution_count": 14,
   "id": "5be64a74",
   "metadata": {},
   "outputs": [
    {
     "name": "stderr",
     "output_type": "stream",
     "text": [
      "Some weights of the model checkpoint at ai4bharat/indic-bert were not used when initializing AlbertModel: ['sop_classifier.classifier.bias', 'predictions.dense.weight', 'predictions.bias', 'predictions.dense.bias', 'predictions.decoder.weight', 'predictions.LayerNorm.bias', 'sop_classifier.classifier.weight', 'predictions.LayerNorm.weight', 'predictions.decoder.bias']\n",
      "- This IS expected if you are initializing AlbertModel from the checkpoint of a model trained on another task or with another architecture (e.g. initializing a BertForSequenceClassification model from a BertForPreTraining model).\n",
      "- This IS NOT expected if you are initializing AlbertModel from the checkpoint of a model that you expect to be exactly identical (initializing a BertForSequenceClassification model from a BertForSequenceClassification model).\n"
     ]
    }
   ],
   "source": [
    "#--->don't run it now\n",
    "# Indic BERT\n",
    "\n",
    "from transformers import AutoModel, AutoTokenizer\n",
    "\n",
    "# Load pre-trained model tokenizer and model\n",
    "tokenizer = AutoTokenizer.from_pretrained('ai4bharat/indic-bert')\n",
    "model = AutoModel.from_pretrained('ai4bharat/indic-bert')"
   ]
  },
  {
   "cell_type": "code",
   "execution_count": 16,
   "id": "c2c3c9ab",
   "metadata": {},
   "outputs": [
    {
     "name": "stderr",
     "output_type": "stream",
     "text": [
      "100%|██████████████████████████████████| 10956/10956 [14:55:49<00:00,  4.91s/it]\n"
     ]
    },
    {
     "ename": "RuntimeError",
     "evalue": "Parent directory model does not exist.",
     "output_type": "error",
     "traceback": [
      "\u001b[0;31m---------------------------------------------------------------------------\u001b[0m",
      "\u001b[0;31mRuntimeError\u001b[0m                              Traceback (most recent call last)",
      "Input \u001b[0;32mIn [16]\u001b[0m, in \u001b[0;36m<cell line: 30>\u001b[0;34m()\u001b[0m\n\u001b[1;32m     26\u001b[0m torch\u001b[38;5;241m.\u001b[39msave(embeddings, \u001b[38;5;124m'\u001b[39m\u001b[38;5;124mindic_bert_embeddings_hing_eng.npy\u001b[39m\u001b[38;5;124m'\u001b[39m)\n\u001b[1;32m     29\u001b[0m \u001b[38;5;66;03m#saves the BERT model \u001b[39;00m\n\u001b[0;32m---> 30\u001b[0m \u001b[43mtorch\u001b[49m\u001b[38;5;241;43m.\u001b[39;49m\u001b[43msave\u001b[49m\u001b[43m(\u001b[49m\u001b[43mmodel\u001b[49m\u001b[43m,\u001b[49m\u001b[43m \u001b[49m\u001b[38;5;124;43m'\u001b[39;49m\u001b[38;5;124;43mmodel/indic_model\u001b[39;49m\u001b[38;5;124;43m'\u001b[39;49m\u001b[43m)\u001b[49m\n\u001b[1;32m     32\u001b[0m \u001b[38;5;66;03m#saves the BERT tokenizer\u001b[39;00m\n\u001b[1;32m     33\u001b[0m tokenizer\u001b[38;5;241m.\u001b[39msave_pretrained(\u001b[38;5;124m'\u001b[39m\u001b[38;5;124mmodel/indic_tokenizer\u001b[39m\u001b[38;5;124m'\u001b[39m)\n",
      "File \u001b[0;32m~/anaconda3/lib/python3.9/site-packages/torch/serialization.py:440\u001b[0m, in \u001b[0;36msave\u001b[0;34m(obj, f, pickle_module, pickle_protocol, _use_new_zipfile_serialization)\u001b[0m\n\u001b[1;32m    437\u001b[0m _check_save_filelike(f)\n\u001b[1;32m    439\u001b[0m \u001b[38;5;28;01mif\u001b[39;00m _use_new_zipfile_serialization:\n\u001b[0;32m--> 440\u001b[0m     \u001b[38;5;28;01mwith\u001b[39;00m \u001b[43m_open_zipfile_writer\u001b[49m\u001b[43m(\u001b[49m\u001b[43mf\u001b[49m\u001b[43m)\u001b[49m \u001b[38;5;28;01mas\u001b[39;00m opened_zipfile:\n\u001b[1;32m    441\u001b[0m         _save(obj, opened_zipfile, pickle_module, pickle_protocol)\n\u001b[1;32m    442\u001b[0m         \u001b[38;5;28;01mreturn\u001b[39;00m\n",
      "File \u001b[0;32m~/anaconda3/lib/python3.9/site-packages/torch/serialization.py:315\u001b[0m, in \u001b[0;36m_open_zipfile_writer\u001b[0;34m(name_or_buffer)\u001b[0m\n\u001b[1;32m    313\u001b[0m \u001b[38;5;28;01melse\u001b[39;00m:\n\u001b[1;32m    314\u001b[0m     container \u001b[38;5;241m=\u001b[39m _open_zipfile_writer_buffer\n\u001b[0;32m--> 315\u001b[0m \u001b[38;5;28;01mreturn\u001b[39;00m \u001b[43mcontainer\u001b[49m\u001b[43m(\u001b[49m\u001b[43mname_or_buffer\u001b[49m\u001b[43m)\u001b[49m\n",
      "File \u001b[0;32m~/anaconda3/lib/python3.9/site-packages/torch/serialization.py:288\u001b[0m, in \u001b[0;36m_open_zipfile_writer_file.__init__\u001b[0;34m(self, name)\u001b[0m\n\u001b[1;32m    287\u001b[0m \u001b[38;5;28;01mdef\u001b[39;00m \u001b[38;5;21m__init__\u001b[39m(\u001b[38;5;28mself\u001b[39m, name) \u001b[38;5;241m-\u001b[39m\u001b[38;5;241m>\u001b[39m \u001b[38;5;28;01mNone\u001b[39;00m:\n\u001b[0;32m--> 288\u001b[0m     \u001b[38;5;28msuper\u001b[39m()\u001b[38;5;241m.\u001b[39m\u001b[38;5;21m__init__\u001b[39m(\u001b[43mtorch\u001b[49m\u001b[38;5;241;43m.\u001b[39;49m\u001b[43m_C\u001b[49m\u001b[38;5;241;43m.\u001b[39;49m\u001b[43mPyTorchFileWriter\u001b[49m\u001b[43m(\u001b[49m\u001b[38;5;28;43mstr\u001b[39;49m\u001b[43m(\u001b[49m\u001b[43mname\u001b[49m\u001b[43m)\u001b[49m\u001b[43m)\u001b[49m)\n",
      "\u001b[0;31mRuntimeError\u001b[0m: Parent directory model does not exist."
     ]
    }
   ],
   "source": [
    "#--->don't run it now\n",
    "# Define batch size\n",
    "batch_size = 32\n",
    "\n",
    "# Tokenize and encode input data in batches\n",
    "encoded_inputs = []\n",
    "for i in range(0, len(unlabeled_data), batch_size):\n",
    "    inputs = unlabeled_data[i:i+batch_size]\n",
    "    encoded_inputs.append(tokenizer.batch_encode_plus(inputs, padding=True, truncation=True, return_tensors=\"pt\"))\n",
    "\n",
    "# Generate embeddings for each batch\n",
    "embeddings = []\n",
    "for encoded_input in tqdm(encoded_inputs):\n",
    "    with torch.no_grad():\n",
    "        model_output = model(**encoded_input)\n",
    "    batch_embeddings = model_output.last_hidden_state.mean(dim=1)\n",
    "    embeddings.append(batch_embeddings)\n",
    "\n",
    "#print(embeddings)\n",
    "#print(\"--------------------\")\n",
    "# Concatenate the embeddings from all batches into a single tensor\n",
    "embeddings = torch.cat(embeddings, dim=0)\n",
    "#print(embeddings)\n",
    "\n",
    "# Save the embeddings tensor\n",
    "torch.save(embeddings, 'indic_bert_embeddings_hing_eng.npy')\n",
    "\n",
    "\n",
    "#saves the BERT model \n",
    "torch.save(model, 'model/indic_model')\n",
    "\n",
    "#saves the BERT tokenizer\n",
    "tokenizer.save_pretrained('model/indic_tokenizer')\n",
    "\n",
    "# Load the embeddings tensor\n",
    "#embeddings = torch.load('multi_bert_embeddings_hing_eng.npy')"
   ]
  },
  {
   "cell_type": "code",
   "execution_count": 17,
   "id": "e7952c66",
   "metadata": {},
   "outputs": [
    {
     "data": {
      "text/plain": [
       "('model/indic_tokenizer/tokenizer_config.json',\n",
       " 'model/indic_tokenizer/special_tokens_map.json',\n",
       " 'model/indic_tokenizer/spiece.model',\n",
       " 'model/indic_tokenizer/added_tokens.json',\n",
       " 'model/indic_tokenizer/tokenizer.json')"
      ]
     },
     "execution_count": 17,
     "metadata": {},
     "output_type": "execute_result"
    }
   ],
   "source": [
    "#saves the BERT model \n",
    "torch.save(model, 'model/indic_model')\n",
    "\n",
    "#saves the BERT tokenizer\n",
    "tokenizer.save_pretrained('model/indic_tokenizer')\n"
   ]
  },
  {
   "cell_type": "code",
   "execution_count": 18,
   "id": "c55d1421",
   "metadata": {},
   "outputs": [
    {
     "name": "stdout",
     "output_type": "stream",
     "text": [
      "<numpy.lib.npyio.NpzFile object at 0x7f3f5de225b0>\n"
     ]
    }
   ],
   "source": [
    "# Load the embeddings tensor\n",
    "embeddings = np.load('indic_bert_embeddings_hing_eng.npy')\n",
    "print(embeddings)"
   ]
  },
  {
   "cell_type": "code",
   "execution_count": 19,
   "id": "b5b44b8a",
   "metadata": {},
   "outputs": [
    {
     "name": "stderr",
     "output_type": "stream",
     "text": [
      "2023-05-12 15:06:35.932942: W tensorflow/stream_executor/platform/default/dso_loader.cc:64] Could not load dynamic library 'libcuda.so.1'; dlerror: libcuda.so.1: cannot open shared object file: No such file or directory\n",
      "2023-05-12 15:06:35.989089: W tensorflow/stream_executor/cuda/cuda_driver.cc:269] failed call to cuInit: UNKNOWN ERROR (303)\n",
      "2023-05-12 15:06:36.069696: I tensorflow/stream_executor/cuda/cuda_diagnostics.cc:156] kernel driver does not appear to be running on this host (user-PC): /proc/driver/nvidia/version does not exist\n",
      "2023-05-12 15:06:37.913254: I tensorflow/core/platform/cpu_feature_guard.cc:193] This TensorFlow binary is optimized with oneAPI Deep Neural Network Library (oneDNN) to use the following CPU instructions in performance-critical operations:  AVX2 FMA\n",
      "To enable them in other operations, rebuild TensorFlow with the appropriate compiler flags.\n"
     ]
    },
    {
     "name": "stdout",
     "output_type": "stream",
     "text": [
      "(200000, 128)\n",
      "200000\n",
      "<class 'numpy.ndarray'>\n",
      "[[-0.13759072  0.04926156  0.05026443 ...  0.03892654 -0.1522157\n",
      "  -0.03538406]\n",
      " [-0.04367055 -0.16412668 -0.00614381 ...  0.137002   -0.01873192\n",
      "  -0.0286636 ]\n",
      " [-0.10972942  0.00468155 -0.023487   ...  0.00403803 -0.04135056\n",
      "  -0.0108338 ]\n",
      " ...\n",
      " [-0.18485105 -0.36873308 -0.16315831 ...  0.09562629 -0.13881701\n",
      "   0.01210497]\n",
      " [-0.19483216 -0.03666859 -0.15529229 ...  0.05463047 -0.15672903\n",
      "   0.12593858]\n",
      " [-0.19042113 -0.1882694  -0.00215081 ... -0.11054487 -0.04836129\n",
      "   0.00179551]]\n",
      "tf.Tensor(\n",
      "[[-0.13759072  0.04926156  0.05026443 ...  0.03892654 -0.1522157\n",
      "  -0.03538406]\n",
      " [-0.04367055 -0.16412668 -0.00614381 ...  0.137002   -0.01873192\n",
      "  -0.0286636 ]\n",
      " [-0.10972942  0.00468155 -0.023487   ...  0.00403803 -0.04135056\n",
      "  -0.0108338 ]\n",
      " ...\n",
      " [-0.18485105 -0.36873308 -0.16315831 ...  0.09562629 -0.13881701\n",
      "   0.01210497]\n",
      " [-0.19483216 -0.03666859 -0.15529229 ...  0.05463047 -0.15672903\n",
      "   0.12593858]\n",
      " [-0.19042113 -0.1882694  -0.00215081 ... -0.11054487 -0.04836129\n",
      "   0.00179551]], shape=(200000, 128), dtype=float32)\n",
      "(200000, 128)\n"
     ]
    }
   ],
   "source": [
    "embeddings = tf.concat(embeddings, axis=0) \n",
    "#print(embeddings_new)\n",
    "#embeddings_new = embeddings_new.cpu().detach().numpy()\n",
    "embedding_matrix = model.embeddings.word_embeddings.weight\n",
    "embedding_matrix = embedding_matrix.cpu().detach().numpy()\n",
    "print(embedding_matrix.shape)\n",
    "print(embedding_matrix.shape[0])\n",
    "print(type(embedding_matrix))\n",
    "print(embedding_matrix)\n",
    "embed_tensor = tf.convert_to_tensor(embedding_matrix, dtype=tf.float32)\n",
    "print(embed_tensor)\n",
    "print(embed_tensor.shape)"
   ]
  },
  {
   "cell_type": "code",
   "execution_count": 20,
   "id": "650c6d6f",
   "metadata": {},
   "outputs": [
    {
     "name": "stdout",
     "output_type": "stream",
     "text": [
      "                                          tweet_text  is_sarcastic\n",
      "0  LOL !  BC badaa gaandu hai to ! so jaa lodu ! ...             1\n",
      "1  @OFFICIAL_FC_PAK apni sakh khud sambhalen aur ...             0\n",
      "2  Ek aadmi pareshan ho kar Ae bhagwan aisi zinda...             1\n",
      "3  Lol RT @ThePrachi: @shrikhande Who can sing a ...             1\n",
      "4  @idrinkblueblood tu ol's kar rahi ho kya? Kya ...             0\n",
      "91893\n"
     ]
    }
   ],
   "source": [
    "print(df_labeled.head())\n",
    "print(len(df_labeled))"
   ]
  },
  {
   "cell_type": "code",
   "execution_count": 21,
   "id": "703bd503",
   "metadata": {},
   "outputs": [
    {
     "name": "stderr",
     "output_type": "stream",
     "text": [
      "/tmp/ipykernel_4276/3018622983.py:6: FutureWarning: The default value of regex will change from True to False in a future version.\n",
      "  source = source.str.replace(\"\\w*\\d\\w*\",\"\") #removes all words containing numbers\n",
      "/tmp/ipykernel_4276/3018622983.py:10: FutureWarning: The default value of regex will change from True to False in a future version.\n",
      "  source = source.str.replace(\"[@A-Za-z0-9_]*@[@A-Za-z0-9_]*\",\"\")\n",
      "/tmp/ipykernel_4276/3018622983.py:12: FutureWarning: The default value of regex will change from True to False in a future version.\n",
      "  source = source.str.replace(\"[#A-Za-z0-9_]*#[#A-Za-z0-9_]*\",\"\")\n",
      "/tmp/ipykernel_4276/3018622983.py:13: FutureWarning: The default value of regex will change from True to False in a future version.\n",
      "  source = source.str.replace(\"\\s+|[!$%&()*+, -./:;<=>?\\^_`{|}~]\\s*\",\" \")\n",
      "/tmp/ipykernel_4276/3018622983.py:14: FutureWarning: The default value of regex will change from True to False in a future version.\n",
      "  source = source.str.replace(\"http\\S+\",\"\")\n"
     ]
    },
    {
     "data": {
      "text/html": [
       "<div>\n",
       "<style scoped>\n",
       "    .dataframe tbody tr th:only-of-type {\n",
       "        vertical-align: middle;\n",
       "    }\n",
       "\n",
       "    .dataframe tbody tr th {\n",
       "        vertical-align: top;\n",
       "    }\n",
       "\n",
       "    .dataframe thead th {\n",
       "        text-align: right;\n",
       "    }\n",
       "</style>\n",
       "<table border=\"1\" class=\"dataframe\">\n",
       "  <thead>\n",
       "    <tr style=\"text-align: right;\">\n",
       "      <th></th>\n",
       "      <th>tweet_text</th>\n",
       "    </tr>\n",
       "  </thead>\n",
       "  <tbody>\n",
       "    <tr>\n",
       "      <th>0</th>\n",
       "      <td>lol  bc badaa gaandu hai to  so jaa lodu  tere...</td>\n",
       "    </tr>\n",
       "    <tr>\n",
       "      <th>1</th>\n",
       "      <td>apni sakh khud sambhalen aur kisi ka saath na ...</td>\n",
       "    </tr>\n",
       "    <tr>\n",
       "      <th>2</th>\n",
       "      <td>ek aadmi pareshan ho kar ae bhagwan aisi zinda...</td>\n",
       "    </tr>\n",
       "    <tr>\n",
       "      <th>3</th>\n",
       "      <td>lol rt  who can sing a group song alone raavan...</td>\n",
       "    </tr>\n",
       "    <tr>\n",
       "      <th>4</th>\n",
       "      <td>tu ol s kar rahi ho kya kya hoga tere kaam sir...</td>\n",
       "    </tr>\n",
       "  </tbody>\n",
       "</table>\n",
       "</div>"
      ],
      "text/plain": [
       "                                          tweet_text\n",
       "0  lol  bc badaa gaandu hai to  so jaa lodu  tere...\n",
       "1  apni sakh khud sambhalen aur kisi ka saath na ...\n",
       "2  ek aadmi pareshan ho kar ae bhagwan aisi zinda...\n",
       "3  lol rt  who can sing a group song alone raavan...\n",
       "4  tu ol s kar rahi ho kya kya hoga tere kaam sir..."
      ]
     },
     "execution_count": 21,
     "metadata": {},
     "output_type": "execute_result"
    }
   ],
   "source": [
    "#removes mentions, '#', emojis, punctuations, special chars, URLs, words containing numbers, spaces from beginning and end of tweets\n",
    "\n",
    "def data_preprocessing(source):\n",
    "    \n",
    "    source = source.str.lower() #lower case chars\n",
    "    source = source.str.replace(\"\\w*\\d\\w*\",\"\") #removes all words containing numbers\n",
    "    #source = source.str.replace(\"#\", \"\")\n",
    "    #source = source.str.replace(\"@\", \"\")\n",
    "    #source = source.str.replace(\"@[A-Za-z0-9_]+\",\"\")\n",
    "    source = source.str.replace(\"[@A-Za-z0-9_]*@[@A-Za-z0-9_]*\",\"\")\n",
    "    #source = source.str.replace(\"#[A-Za-z0-9_]+\",\"\")\n",
    "    source = source.str.replace(\"[#A-Za-z0-9_]*#[#A-Za-z0-9_]*\",\"\")\n",
    "    source = source.str.replace(\"\\s+|[!$%&()*+, -./:;<=>?\\^_`{|}~]\\s*\",\" \")\n",
    "    source = source.str.replace(\"http\\S+\",\"\")\n",
    "    \n",
    "    return source\n",
    "\n",
    "df_labeled['tweet_text'] = data_preprocessing(df_labeled['tweet_text'])\n",
    "df_labeled['tweet_text'] = df_labeled['tweet_text'].apply(lambda s: emoji.replace_emoji(s,\"\"))\n",
    "df_labeled['tweet_text'] = df_labeled['tweet_text'].str.strip()\n",
    "df_labeled[['tweet_text']].head()"
   ]
  },
  {
   "cell_type": "code",
   "execution_count": 22,
   "id": "ed894e45",
   "metadata": {},
   "outputs": [
    {
     "data": {
      "text/html": [
       "<div>\n",
       "<style scoped>\n",
       "    .dataframe tbody tr th:only-of-type {\n",
       "        vertical-align: middle;\n",
       "    }\n",
       "\n",
       "    .dataframe tbody tr th {\n",
       "        vertical-align: top;\n",
       "    }\n",
       "\n",
       "    .dataframe thead th {\n",
       "        text-align: right;\n",
       "    }\n",
       "</style>\n",
       "<table border=\"1\" class=\"dataframe\">\n",
       "  <thead>\n",
       "    <tr style=\"text-align: right;\">\n",
       "      <th></th>\n",
       "      <th>tweet_text</th>\n",
       "      <th>is_sarcastic</th>\n",
       "    </tr>\n",
       "  </thead>\n",
       "  <tbody>\n",
       "    <tr>\n",
       "      <th>0</th>\n",
       "      <td>lol  bc badaa gaandu hai to  so jaa lodu  tere...</td>\n",
       "      <td>1</td>\n",
       "    </tr>\n",
       "    <tr>\n",
       "      <th>1</th>\n",
       "      <td>apni sakh khud sambhalen aur kisi ka saath na ...</td>\n",
       "      <td>0</td>\n",
       "    </tr>\n",
       "    <tr>\n",
       "      <th>2</th>\n",
       "      <td>ek aadmi pareshan ho kar ae bhagwan aisi zinda...</td>\n",
       "      <td>1</td>\n",
       "    </tr>\n",
       "    <tr>\n",
       "      <th>3</th>\n",
       "      <td>lol rt  who can sing a group song alone raavan...</td>\n",
       "      <td>1</td>\n",
       "    </tr>\n",
       "    <tr>\n",
       "      <th>4</th>\n",
       "      <td>tu ol s kar rahi ho kya kya hoga tere kaam sir...</td>\n",
       "      <td>0</td>\n",
       "    </tr>\n",
       "  </tbody>\n",
       "</table>\n",
       "</div>"
      ],
      "text/plain": [
       "                                          tweet_text  is_sarcastic\n",
       "0  lol  bc badaa gaandu hai to  so jaa lodu  tere...             1\n",
       "1  apni sakh khud sambhalen aur kisi ka saath na ...             0\n",
       "2  ek aadmi pareshan ho kar ae bhagwan aisi zinda...             1\n",
       "3  lol rt  who can sing a group song alone raavan...             1\n",
       "4  tu ol s kar rahi ho kya kya hoga tere kaam sir...             0"
      ]
     },
     "execution_count": 22,
     "metadata": {},
     "output_type": "execute_result"
    }
   ],
   "source": [
    "df_labeled.head()"
   ]
  },
  {
   "cell_type": "code",
   "execution_count": 24,
   "id": "6643a00e",
   "metadata": {},
   "outputs": [
    {
     "name": "stdout",
     "output_type": "stream",
     "text": [
      "93958\n"
     ]
    }
   ],
   "source": [
    "#finds the unique words in the labeled data\n",
    "\n",
    "unique_words = set()\n",
    "df_labeled['tweet_text'].str.lower().str.split().apply(unique_words.update)\n",
    "unique_words = list(unique_words)\n",
    "#print(unique_words)\n",
    "#print('---------------')\n",
    "print(len(unique_words))"
   ]
  },
  {
   "cell_type": "code",
   "execution_count": 25,
   "id": "ea627c99",
   "metadata": {},
   "outputs": [
    {
     "name": "stdout",
     "output_type": "stream",
     "text": [
      "['lol  bc badaa gaandu hai to  so jaa lodu  tere se kuch nahi hoga', 'apni sakh khud sambhalen aur kisi ka saath na dein yehi log baad mein badnam karte hein inko lage rhne dein', 'ek aadmi pareshan ho kar ae bhagwan aisi zindagi se to maut achi tabhi yamdut aa gaya bola chalo aadmi bhagwan ab kya insaan mazak b na k', 'lol rt  who can sing a group song alone raavan har baar rajnikanth thodi hota hai yaar', 'tu ol s kar rahi ho kya kya hoga tere kaam sirf music aur tv dekhna    p']\n"
     ]
    }
   ],
   "source": [
    "labeled_data = list(df_labeled['tweet_text'])\n",
    "print(labeled_data[0:5])\n"
   ]
  },
  {
   "cell_type": "code",
   "execution_count": 26,
   "id": "00329c67",
   "metadata": {},
   "outputs": [],
   "source": [
    "x_train,x_test,y_train,y_test=train_test_split(labeled_data, df_labeled['is_sarcastic'], test_size=0.30, random_state=42)\n",
    "\n"
   ]
  },
  {
   "cell_type": "code",
   "execution_count": 27,
   "id": "cb9b24c3",
   "metadata": {},
   "outputs": [
    {
     "name": "stdout",
     "output_type": "stream",
     "text": [
      "Max length---> 298\n",
      "Max length---> 290\n",
      "maxi---> 298\n"
     ]
    }
   ],
   "source": [
    "length1 = []\n",
    "for row in x_train:\n",
    "    #print(row)\n",
    "    #print(len(row))\n",
    "    #count = count+1\n",
    "    #if len(row)>maxi:\n",
    "    #print(len(row))\n",
    "    length1.append(len(row))\n",
    "        \n",
    "#print(length)\n",
    "print(\"Max length--->\", max(length1))\n",
    "\n",
    "length2 = []\n",
    "for row in x_test:\n",
    "    #print(row)\n",
    "    #print(len(row))\n",
    "    #count = count+1\n",
    "    #if len(row)>maxi:\n",
    "    #print(len(row))\n",
    "    length2.append(len(row))\n",
    "        \n",
    "print(\"Max length--->\", max(length2))\n",
    "\n",
    "maxi = max(max(length1), max(length2))\n",
    "print(\"maxi--->\", maxi)"
   ]
  },
  {
   "cell_type": "code",
   "execution_count": 28,
   "id": "fc233aae",
   "metadata": {},
   "outputs": [
    {
     "name": "stdout",
     "output_type": "stream",
     "text": [
      "tf.Tensor(\n",
      "[[2.00000e+00 8.00000e+00 3.40000e+03 ... 0.00000e+00 0.00000e+00\n",
      "  0.00000e+00]\n",
      " [2.00000e+00 2.78890e+04 1.71562e+05 ... 0.00000e+00 0.00000e+00\n",
      "  0.00000e+00]\n",
      " [2.00000e+00 1.17000e+02 8.18000e+02 ... 0.00000e+00 0.00000e+00\n",
      "  0.00000e+00]\n",
      " ...\n",
      " [2.00000e+00 8.28470e+04 2.23730e+04 ... 0.00000e+00 0.00000e+00\n",
      "  0.00000e+00]\n",
      " [2.00000e+00 8.00000e+00 1.92160e+04 ... 0.00000e+00 0.00000e+00\n",
      "  0.00000e+00]\n",
      " [2.00000e+00 4.62000e+03 1.92479e+05 ... 0.00000e+00 0.00000e+00\n",
      "  0.00000e+00]], shape=(64325, 298), dtype=float32)\n",
      "----------------------------\n",
      "tf.Tensor(\n",
      "[[2.00000e+00 9.12000e+02 3.20000e+01 ... 0.00000e+00 0.00000e+00\n",
      "  0.00000e+00]\n",
      " [2.00000e+00 1.72420e+04 1.12215e+05 ... 0.00000e+00 0.00000e+00\n",
      "  0.00000e+00]\n",
      " [2.00000e+00 4.84100e+03 9.12180e+04 ... 0.00000e+00 0.00000e+00\n",
      "  0.00000e+00]\n",
      " ...\n",
      " [2.00000e+00 2.51000e+02 9.68300e+03 ... 0.00000e+00 0.00000e+00\n",
      "  0.00000e+00]\n",
      " [2.00000e+00 7.48000e+02 6.39100e+04 ... 0.00000e+00 0.00000e+00\n",
      "  0.00000e+00]\n",
      " [2.00000e+00 3.30000e+01 1.23050e+04 ... 0.00000e+00 0.00000e+00\n",
      "  0.00000e+00]], shape=(27568, 298), dtype=float32)\n"
     ]
    }
   ],
   "source": [
    "#loads model from local folder\n",
    "model = torch.load('model/indic_model')\n",
    "\n",
    "#loads tokenizer from local folder\n",
    "tokenizer = AutoTokenizer.from_pretrained('model/indic_tokenizer', model_max_length=maxi)\n",
    "\n",
    "def tokenize_labeled_data(data):\n",
    "    tokenized_sentences = []\n",
    "    for sentence in data:\n",
    "        # Apply the tokenizer to each sentence to obtain its tokens\n",
    "        tokens = tokenizer.encode(sentence, add_special_tokens=True, return_tensors =\"tf\", padding='max_length', truncation='only_first')\n",
    "        # Append the tokenized sentence to the list\n",
    "        tokenized_sentences.append(tokens)\n",
    "\n",
    "    token_tensor = tf.convert_to_tensor(tokenized_sentences, dtype=tf.float32)\n",
    "    #token_tensor = tf.convert_to_tensor(tokenized_sentences)\n",
    "    #print(token_tensor)\n",
    "    #print(len(token_tensor))\n",
    "    #print(type(token_tensor))\n",
    "    #print('----------------------------')\n",
    "    token_tensor = token_tensor[:, 0, :]\n",
    "    #print(token_tensor)\n",
    "    #print(len(token_tensor))\n",
    "    #print(type(token_tensor))\n",
    "    return token_tensor\n",
    "\n",
    "training_tensor = tokenize_labeled_data(x_train)\n",
    "test_tensor = tokenize_labeled_data(x_test)\n",
    "\n",
    "print(training_tensor)\n",
    "print('----------------------------')\n",
    "print(test_tensor)"
   ]
  },
  {
   "cell_type": "code",
   "execution_count": 29,
   "id": "2ab2a40c",
   "metadata": {},
   "outputs": [
    {
     "name": "stdout",
     "output_type": "stream",
     "text": [
      "tf.Tensor([0. 1. 1. ... 0. 0. 1.], shape=(64325,), dtype=float32)\n",
      "<class 'tensorflow.python.framework.ops.EagerTensor'>\n",
      "------------------------\n",
      "tf.Tensor([0. 1. 1. ... 0. 0. 0.], shape=(27568,), dtype=float32)\n",
      "<class 'tensorflow.python.framework.ops.EagerTensor'>\n"
     ]
    }
   ],
   "source": [
    "y_train_lst = list(y_train)\n",
    "y_test_lst = list(y_test)\n",
    "training_labels = tf.convert_to_tensor(y_train_lst, dtype=tf.float32)\n",
    "test_labels = tf.convert_to_tensor(y_test_lst, dtype=tf.float32)\n",
    "print(training_labels)\n",
    "print(type(training_labels))\n",
    "print('------------------------')\n",
    "print(test_labels)\n",
    "print(type(test_labels))"
   ]
  },
  {
   "cell_type": "code",
   "execution_count": 30,
   "id": "aae051ea",
   "metadata": {},
   "outputs": [],
   "source": [
    "#define callbacks\n",
    "early_stopping = EarlyStopping(monitor='val_loss', min_delta=0.01, patience=2, verbose=1)\n",
    "callbacks_list = [early_stopping]"
   ]
  },
  {
   "cell_type": "code",
   "execution_count": 31,
   "id": "988ab158",
   "metadata": {},
   "outputs": [],
   "source": [
    "#Attention BiLSTM\n",
    "\n",
    "from keras import backend as K\n",
    "#from keras.engine.topology import Layer\n",
    "from keras.layers import Layer\n",
    "from keras import initializers, regularizers, constraints\n",
    "\n",
    "\n",
    "class Attention(Layer):\n",
    "    def __init__(self, step_dim,\n",
    "                 W_regularizer=None, b_regularizer=None,\n",
    "                 W_constraint=None, b_constraint=None,\n",
    "                 bias=True, **kwargs):\n",
    "        self.supports_masking = True\n",
    "        self.init = initializers.get('glorot_uniform')\n",
    "\n",
    "        self.W_regularizer = regularizers.get(W_regularizer)\n",
    "        self.b_regularizer = regularizers.get(b_regularizer)\n",
    "\n",
    "        self.W_constraint = constraints.get(W_constraint)\n",
    "        self.b_constraint = constraints.get(b_constraint)\n",
    "\n",
    "        self.bias = bias\n",
    "        self.step_dim = step_dim\n",
    "        self.features_dim = 0\n",
    "        super(Attention, self).__init__(**kwargs)\n",
    "\n",
    "    def build(self, input_shape):\n",
    "        assert len(input_shape) == 3\n",
    "\n",
    "        self.W = self.add_weight( shape=(input_shape[-1],),\n",
    "                                 initializer=self.init,\n",
    "                                 name='{}_W'.format(self.name),\n",
    "                                 regularizer=self.W_regularizer,\n",
    "                                 constraint=self.W_constraint)\n",
    "        self.features_dim = input_shape[-1]\n",
    "        #print(self.name)\n",
    "        if self.bias:\n",
    "            self.b = self.add_weight(shape=(input_shape[1],),\n",
    "                                     initializer='zero',\n",
    "                                     name='{}_b'.format(self.name),\n",
    "                                     regularizer=self.b_regularizer,\n",
    "                                     constraint=self.b_constraint)\n",
    "        else:\n",
    "            self.b = None\n",
    "\n",
    "        self.built = True\n",
    "\n",
    "    def compute_mask(self, input, input_mask=None):\n",
    "        return None\n",
    "\n",
    "    def call(self, x, mask=None):\n",
    "        features_dim = self.features_dim\n",
    "        step_dim = self.step_dim\n",
    "\n",
    "        eij = K.reshape(K.dot(K.reshape(x, (-1, features_dim)),\n",
    "                        K.reshape(self.W, (features_dim, 1))), (-1, step_dim))\n",
    "\n",
    "        if self.bias:\n",
    "            eij += self.b\n",
    "\n",
    "        eij = K.tanh(eij)\n",
    "\n",
    "        a = K.exp(eij)\n",
    "\n",
    "        if mask is not None:\n",
    "            a *= K.cast(mask, K.floatx())\n",
    "\n",
    "        a /= K.cast(K.sum(a, axis=1, keepdims=True) + K.epsilon(), K.floatx())\n",
    "\n",
    "        a = K.expand_dims(a)\n",
    "        weighted_input = x * a\n",
    "        return K.sum(weighted_input, axis=1)\n",
    "\n",
    "    def compute_output_shape(self, input_shape):\n",
    "        return input_shape[0],  self.features_dim"
   ]
  },
  {
   "cell_type": "code",
   "execution_count": 34,
   "id": "bcf29f86",
   "metadata": {},
   "outputs": [
    {
     "name": "stdout",
     "output_type": "stream",
     "text": [
      "Model: \"model_2\"\n",
      "_________________________________________________________________\n",
      " Layer (type)                Output Shape              Param #   \n",
      "=================================================================\n",
      " input_3 (InputLayer)        [(None, 298)]             0         \n",
      "                                                                 \n",
      " embedding_2 (Embedding)     (None, 298, 128)          25600000  \n",
      "                                                                 \n",
      " bidirectional_2 (Bidirectio  (None, 298, 300)         334800    \n",
      " nal)                                                            \n",
      "                                                                 \n",
      " attention_2 (Attention)     (None, 300)               598       \n",
      "                                                                 \n",
      " dense_4 (Dense)             (None, 64)                19264     \n",
      "                                                                 \n",
      " dense_5 (Dense)             (None, 1)                 65        \n",
      "                                                                 \n",
      "=================================================================\n",
      "Total params: 25,954,727\n",
      "Trainable params: 354,727\n",
      "Non-trainable params: 25,600,000\n",
      "_________________________________________________________________\n"
     ]
    }
   ],
   "source": [
    "lstm_out1 = 150\n",
    "embed_dim = 128\n",
    "\n",
    "inp = Input(shape=(maxi, ))\n",
    "x = Embedding(embed_tensor.shape[0], embed_dim, weights=[embed_tensor], trainable=False)(inp)\n",
    "x = Bidirectional(LSTM(lstm_out1, return_sequences=True, dropout=0.30, recurrent_dropout=0.30))(x)\n",
    "x = Attention(maxi)(x)\n",
    "x = Dense(64, activation=\"relu\")(x)\n",
    "#x = Dropout(0.25)(x)\n",
    "x = Dense(1, activation=\"sigmoid\")(x)\n",
    "model = Model(inputs=inp, outputs=x)\n",
    "\n",
    "adam = Adam(lr=0.001, beta_1=0.9, beta_2=0.999, epsilon=1e-08, decay=0.0)\n",
    "model.compile(loss='binary_crossentropy',optimizer='adam', metrics=['accuracy'])\n",
    "model.summary()"
   ]
  },
  {
   "cell_type": "code",
   "execution_count": 35,
   "id": "9aa69316",
   "metadata": {},
   "outputs": [
    {
     "name": "stdout",
     "output_type": "stream",
     "text": [
      "Epoch 1/20\n",
      "905/905 [==============================] - 2318s 3s/step - loss: 0.3783 - accuracy: 0.8254 - val_loss: 0.1819 - val_accuracy: 0.9543\n",
      "Epoch 2/20\n",
      "905/905 [==============================] - 2084s 2s/step - loss: 0.1728 - accuracy: 0.9551 - val_loss: 0.1676 - val_accuracy: 0.9563\n",
      "Epoch 3/20\n",
      "905/905 [==============================] - 2124s 2s/step - loss: 0.1565 - accuracy: 0.9587 - val_loss: 0.1455 - val_accuracy: 0.9613\n",
      "Epoch 4/20\n",
      "905/905 [==============================] - 2120s 2s/step - loss: 0.1365 - accuracy: 0.9628 - val_loss: 0.1319 - val_accuracy: 0.9632\n",
      "Epoch 5/20\n",
      "905/905 [==============================] - 2120s 2s/step - loss: 0.1221 - accuracy: 0.9661 - val_loss: 0.1233 - val_accuracy: 0.9658\n",
      "Epoch 6/20\n",
      "905/905 [==============================] - 2127s 2s/step - loss: 0.1164 - accuracy: 0.9682 - val_loss: 0.1171 - val_accuracy: 0.9697\n",
      "Epoch 7/20\n",
      "905/905 [==============================] - 2051s 2s/step - loss: 0.1134 - accuracy: 0.9692 - val_loss: 0.1149 - val_accuracy: 0.9681\n",
      "Epoch 8/20\n",
      "905/905 [==============================] - 2020s 2s/step - loss: 0.1098 - accuracy: 0.9705 - val_loss: 0.1104 - val_accuracy: 0.9702\n",
      "Epoch 8: early stopping\n"
     ]
    }
   ],
   "source": [
    "hist = model.fit(training_tensor, training_labels, batch_size=64, epochs=20, validation_split=0.1, shuffle=True, callbacks = callbacks_list)"
   ]
  },
  {
   "cell_type": "code",
   "execution_count": 36,
   "id": "729e4e5a",
   "metadata": {},
   "outputs": [
    {
     "name": "stderr",
     "output_type": "stream",
     "text": [
      "/home/user/anaconda3/lib/python3.9/site-packages/keras/engine/functional.py:1384: CustomMaskWarning: Custom mask layers require a config and must override get_config. When loading, the custom mask layer must be passed to the custom_objects argument.\n",
      "  layer_config = serialize_layer_fn(layer)\n"
     ]
    },
    {
     "ename": "NotImplementedError",
     "evalue": "\nLayer Attention has arguments ['self', 'step_dim', 'W_regularizer', 'b_regularizer', 'W_constraint', 'b_constraint', 'bias']\nin `__init__` and therefore must override `get_config()`.\n\nExample:\n\nclass CustomLayer(keras.layers.Layer):\n    def __init__(self, arg1, arg2):\n        super().__init__()\n        self.arg1 = arg1\n        self.arg2 = arg2\n\n    def get_config(self):\n        config = super().get_config()\n        config.update({\n            \"arg1\": self.arg1,\n            \"arg2\": self.arg2,\n        })\n        return config",
     "output_type": "error",
     "traceback": [
      "\u001b[0;31m---------------------------------------------------------------------------\u001b[0m",
      "\u001b[0;31mNotImplementedError\u001b[0m                       Traceback (most recent call last)",
      "Input \u001b[0;32mIn [36]\u001b[0m, in \u001b[0;36m<cell line: 1>\u001b[0;34m()\u001b[0m\n\u001b[0;32m----> 1\u001b[0m \u001b[43mmodel\u001b[49m\u001b[38;5;241;43m.\u001b[39;49m\u001b[43msave\u001b[49m\u001b[43m(\u001b[49m\u001b[38;5;124;43m'\u001b[39;49m\u001b[38;5;124;43matt_bilstm.h5\u001b[39;49m\u001b[38;5;124;43m'\u001b[39;49m\u001b[43m)\u001b[49m\n",
      "File \u001b[0;32m~/anaconda3/lib/python3.9/site-packages/keras/utils/traceback_utils.py:67\u001b[0m, in \u001b[0;36mfilter_traceback.<locals>.error_handler\u001b[0;34m(*args, **kwargs)\u001b[0m\n\u001b[1;32m     65\u001b[0m \u001b[38;5;28;01mexcept\u001b[39;00m \u001b[38;5;167;01mException\u001b[39;00m \u001b[38;5;28;01mas\u001b[39;00m e:  \u001b[38;5;66;03m# pylint: disable=broad-except\u001b[39;00m\n\u001b[1;32m     66\u001b[0m   filtered_tb \u001b[38;5;241m=\u001b[39m _process_traceback_frames(e\u001b[38;5;241m.\u001b[39m__traceback__)\n\u001b[0;32m---> 67\u001b[0m   \u001b[38;5;28;01mraise\u001b[39;00m e\u001b[38;5;241m.\u001b[39mwith_traceback(filtered_tb) \u001b[38;5;28;01mfrom\u001b[39;00m \u001b[38;5;28mNone\u001b[39m\n\u001b[1;32m     68\u001b[0m \u001b[38;5;28;01mfinally\u001b[39;00m:\n\u001b[1;32m     69\u001b[0m   \u001b[38;5;28;01mdel\u001b[39;00m filtered_tb\n",
      "File \u001b[0;32m~/anaconda3/lib/python3.9/site-packages/keras/engine/base_layer.py:745\u001b[0m, in \u001b[0;36mLayer.get_config\u001b[0;34m(self)\u001b[0m\n\u001b[1;32m    742\u001b[0m \u001b[38;5;66;03m# Check that either the only argument in the `__init__` is  `self`,\u001b[39;00m\n\u001b[1;32m    743\u001b[0m \u001b[38;5;66;03m# or that `get_config` has been overridden:\u001b[39;00m\n\u001b[1;32m    744\u001b[0m \u001b[38;5;28;01mif\u001b[39;00m \u001b[38;5;28mlen\u001b[39m(extra_args) \u001b[38;5;241m>\u001b[39m \u001b[38;5;241m1\u001b[39m \u001b[38;5;129;01mand\u001b[39;00m \u001b[38;5;28mhasattr\u001b[39m(\u001b[38;5;28mself\u001b[39m\u001b[38;5;241m.\u001b[39mget_config, \u001b[38;5;124m'\u001b[39m\u001b[38;5;124m_is_default\u001b[39m\u001b[38;5;124m'\u001b[39m):\n\u001b[0;32m--> 745\u001b[0m   \u001b[38;5;28;01mraise\u001b[39;00m \u001b[38;5;167;01mNotImplementedError\u001b[39;00m(textwrap\u001b[38;5;241m.\u001b[39mdedent(\u001b[38;5;124mf\u001b[39m\u001b[38;5;124m\"\"\"\u001b[39m\n\u001b[1;32m    746\u001b[0m \u001b[38;5;124m      Layer \u001b[39m\u001b[38;5;132;01m{\u001b[39;00m\u001b[38;5;28mself\u001b[39m\u001b[38;5;241m.\u001b[39m\u001b[38;5;18m__class__\u001b[39m\u001b[38;5;241m.\u001b[39m\u001b[38;5;18m__name__\u001b[39m\u001b[38;5;132;01m}\u001b[39;00m\u001b[38;5;124m has arguments \u001b[39m\u001b[38;5;132;01m{\u001b[39;00mextra_args\u001b[38;5;132;01m}\u001b[39;00m\n\u001b[1;32m    747\u001b[0m \u001b[38;5;124m      in `__init__` and therefore must override `get_config()`.\u001b[39m\n\u001b[1;32m    748\u001b[0m \n\u001b[1;32m    749\u001b[0m \u001b[38;5;124m      Example:\u001b[39m\n\u001b[1;32m    750\u001b[0m \n\u001b[1;32m    751\u001b[0m \u001b[38;5;124m      class CustomLayer(keras.layers.Layer):\u001b[39m\n\u001b[1;32m    752\u001b[0m \u001b[38;5;124m          def __init__(self, arg1, arg2):\u001b[39m\n\u001b[1;32m    753\u001b[0m \u001b[38;5;124m              super().__init__()\u001b[39m\n\u001b[1;32m    754\u001b[0m \u001b[38;5;124m              self.arg1 = arg1\u001b[39m\n\u001b[1;32m    755\u001b[0m \u001b[38;5;124m              self.arg2 = arg2\u001b[39m\n\u001b[1;32m    756\u001b[0m \n\u001b[1;32m    757\u001b[0m \u001b[38;5;124m          def get_config(self):\u001b[39m\n\u001b[1;32m    758\u001b[0m \u001b[38;5;124m              config = super().get_config()\u001b[39m\n\u001b[1;32m    759\u001b[0m \u001b[38;5;124m              config.update(\u001b[39m\u001b[38;5;130;01m{{\u001b[39;00m\n\u001b[1;32m    760\u001b[0m \u001b[38;5;124m                  \u001b[39m\u001b[38;5;124m\"\u001b[39m\u001b[38;5;124marg1\u001b[39m\u001b[38;5;124m\"\u001b[39m\u001b[38;5;124m: self.arg1,\u001b[39m\n\u001b[1;32m    761\u001b[0m \u001b[38;5;124m                  \u001b[39m\u001b[38;5;124m\"\u001b[39m\u001b[38;5;124marg2\u001b[39m\u001b[38;5;124m\"\u001b[39m\u001b[38;5;124m: self.arg2,\u001b[39m\n\u001b[1;32m    762\u001b[0m \u001b[38;5;124m              \u001b[39m\u001b[38;5;130;01m}}\u001b[39;00m\u001b[38;5;124m)\u001b[39m\n\u001b[1;32m    763\u001b[0m \u001b[38;5;124m              return config\u001b[39m\u001b[38;5;124m\"\"\"\u001b[39m))\n\u001b[1;32m    765\u001b[0m \u001b[38;5;28;01mreturn\u001b[39;00m config\n",
      "\u001b[0;31mNotImplementedError\u001b[0m: \nLayer Attention has arguments ['self', 'step_dim', 'W_regularizer', 'b_regularizer', 'W_constraint', 'b_constraint', 'bias']\nin `__init__` and therefore must override `get_config()`.\n\nExample:\n\nclass CustomLayer(keras.layers.Layer):\n    def __init__(self, arg1, arg2):\n        super().__init__()\n        self.arg1 = arg1\n        self.arg2 = arg2\n\n    def get_config(self):\n        config = super().get_config()\n        config.update({\n            \"arg1\": self.arg1,\n            \"arg2\": self.arg2,\n        })\n        return config"
     ]
    }
   ],
   "source": [
    "model.save('att_bilstm.h5') "
   ]
  },
  {
   "cell_type": "code",
   "execution_count": 37,
   "id": "563698c9",
   "metadata": {},
   "outputs": [
    {
     "name": "stdout",
     "output_type": "stream",
     "text": [
      "862/862 [==============================] - 352s 397ms/step\n",
      "Accuracy is---> 97.25043528728962\n"
     ]
    }
   ],
   "source": [
    "#model = load_model('att_bilstm.h5')\n",
    "y_pred_proba = model.predict(test_tensor)\n",
    "#print(y_pred_proba)\n",
    "#print('---------------')\n",
    "\n",
    "y_pred_class = np.round(y_pred_proba)\n",
    "y_pred_class = y_pred_class.squeeze() #makes y_pred_class 1 dim\n",
    "'''print(y_pred_class)\n",
    "print(type(y_pred_class))\n",
    "print(len(y_pred_class))\n",
    "print(len(y_test))\n",
    "print('---------------')'''\n",
    "\n",
    "acc = accuracy_score(test_labels, y_pred_class) * 100\n",
    "print(\"Accuracy is--->\", acc)"
   ]
  },
  {
   "cell_type": "code",
   "execution_count": 38,
   "id": "7dba2aa8",
   "metadata": {},
   "outputs": [
    {
     "name": "stdout",
     "output_type": "stream",
     "text": [
      "              precision    recall  f1-score   support\n",
      "\n",
      "         0.0       0.97      0.97      0.97     13944\n",
      "         1.0       0.97      0.97      0.97     13624\n",
      "\n",
      "    accuracy                           0.97     27568\n",
      "   macro avg       0.97      0.97      0.97     27568\n",
      "weighted avg       0.97      0.97      0.97     27568\n",
      "\n"
     ]
    }
   ],
   "source": [
    "print(classification_report(test_labels, y_pred_class))"
   ]
  },
  {
   "cell_type": "code",
   "execution_count": 39,
   "id": "be689972",
   "metadata": {},
   "outputs": [
    {
     "data": {
      "image/png": "[encoded data removed]",
      "text/plain": [
       "<Figure size 432x288 with 1 Axes>"
      ]
     },
     "metadata": {
      "needs_background": "light"
     },
     "output_type": "display_data"
    }
   ],
   "source": [
    "#generate plots\n",
    "plt.figure()\n",
    "plt.plot(hist.history['loss'], lw=2.0, color='b', label='train')\n",
    "plt.plot(hist.history['val_loss'], lw=2.0, color='r', label='val')\n",
    "plt.title('CNN sentiment')\n",
    "plt.xlabel('Epochs')\n",
    "plt.ylabel('Cross-Entropy Loss')\n",
    "plt.legend(loc='upper right')\n",
    "plt.show()"
   ]
  },
  {
   "cell_type": "code",
   "execution_count": 40,
   "id": "da0c5f26",
   "metadata": {},
   "outputs": [
    {
     "data": {
      "image/png": "[encoded data removed]",
      "text/plain": [
       "<Figure size 432x288 with 1 Axes>"
      ]
     },
     "metadata": {
      "needs_background": "light"
     },
     "output_type": "display_data"
    }
   ],
   "source": [
    "plt.figure()\n",
    "plt.plot(hist.history['accuracy'], lw=2.0, color='b', label='train')\n",
    "plt.plot(hist.history['val_accuracy'], lw=2.0, color='r', label='val')\n",
    "plt.title('CNN sentiment')\n",
    "plt.xlabel('Epochs')\n",
    "plt.ylabel('Accuracy')\n",
    "plt.legend(loc='upper left')\n",
    "plt.show()"
   ]
  },
  {
   "cell_type": "code",
   "execution_count": 41,
   "id": "d5df79b1",
   "metadata": {},
   "outputs": [
    {
     "data": {
      "text/plain": [
       "<sklearn.metrics._plot.confusion_matrix.ConfusionMatrixDisplay at 0x7f3f4f1aad90>"
      ]
     },
     "execution_count": 41,
     "metadata": {},
     "output_type": "execute_result"
    },
    {
     "data": {
      "image/png": "[encoded data removed]",
      "text/plain": [
       "<Figure size 432x288 with 2 Axes>"
      ]
     },
     "metadata": {
      "needs_background": "light"
     },
     "output_type": "display_data"
    }
   ],
   "source": [
    "#generates the confusion matrix\n",
    "\n",
    "labels = ['Sarcastic', 'Non-sarcastic']\n",
    "cm = confusion_matrix(test_labels, y_pred_class)\n",
    "ConfusionMatrixDisplay(cm, display_labels=labels).plot()"
   ]
  },
  {
   "cell_type": "code",
   "execution_count": null,
   "id": "038dc050",
   "metadata": {},
   "outputs": [],
   "source": []
  }
 ],
 "metadata": {
  "kernelspec": {
   "display_name": "Python 3 (ipykernel)",
   "language": "python",
   "name": "python3"
  },
  "language_info": {
   "codemirror_mode": {
    "name": "ipython",
    "version": 3
   },
   "file_extension": ".py",
   "mimetype": "text/x-python",
   "name": "python",
   "nbconvert_exporter": "python",
   "pygments_lexer": "ipython3",
   "version": "3.9.12"
  }
 },
 "nbformat": 4,
 "nbformat_minor": 5
}
