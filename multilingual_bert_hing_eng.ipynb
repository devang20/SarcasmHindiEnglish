{
 "cells": [
  {
   "cell_type": "code",
   "execution_count": 1,
   "id": "2b508246",
   "metadata": {},
   "outputs": [
    {
     "name": "stderr",
     "output_type": "stream",
     "text": [
      "2023-05-10 01:55:20.596184: W tensorflow/stream_executor/platform/default/dso_loader.cc:64] Could not load dynamic library 'libcudart.so.11.0'; dlerror: libcudart.so.11.0: cannot open shared object file: No such file or directory\n",
      "2023-05-10 01:55:20.596231: I tensorflow/stream_executor/cuda/cudart_stub.cc:29] Ignore above cudart dlerror if you do not have a GPU set up on your machine.\n"
     ]
    }
   ],
   "source": [
    "import pandas as pd\n",
    "import regex as re\n",
    "from collections import Counter\n",
    "import emoji\n",
    "from gensim.models.word2vec import Word2Vec\n",
    "import nltk\n",
    "#from nltk import word_tokenize--->\n",
    "from gensim.models import FastText\n",
    "from gensim.models import KeyedVectors\n",
    "#from nltk.tokenize import word_tokenize\n",
    "from sklearn.model_selection import train_test_split\n",
    "from sklearn.metrics import accuracy_score\n",
    "from sklearn.metrics import classification_report\n",
    "from sklearn.metrics import accuracy_score\n",
    "from sklearn.decomposition import PCA\n",
    "from sklearn.preprocessing import StandardScaler\n",
    "from sklearn.metrics import confusion_matrix, ConfusionMatrixDisplay\n",
    "import numpy as np\n",
    "import matplotlib.pyplot as plt\n",
    "from tqdm import tqdm\n",
    "from gensim.models.callbacks import CallbackAny2Vec\n",
    "#import matplotlib.pyplot as plt\n",
    "import keras\n",
    "#from keras.preprocessing.text import Tokenizer--->\n",
    "from keras.utils.data_utils import pad_sequences\n",
    "#from keras.initializers import Constant\n",
    "from keras.layers import ReLU\n",
    "from keras.layers import Dropout\n",
    "from keras.models import Sequential\n",
    "from keras.layers import Dense, Flatten, Embedding, Input, LSTM, Bidirectional, TimeDistributed, Conv1D, MaxPooling1D, GlobalMaxPooling1D\n",
    "from keras.optimizers import Adam\n",
    "from keras import Model\n",
    "from keras.models import load_model\n",
    "from keras.callbacks import EarlyStopping\n",
    "from tensorflow.keras.utils import to_categorical\n",
    "import math\n",
    "import torch\n",
    "#import torch.nn as nn\n",
    "import tensorflow as tf\n",
    "#nltk.download('punkt')"
   ]
  },
  {
   "cell_type": "code",
   "execution_count": 2,
   "id": "13081b52",
   "metadata": {},
   "outputs": [
    {
     "name": "stdout",
     "output_type": "stream",
     "text": [
      "422415\n",
      "Index(['tweet_text'], dtype='object')\n"
     ]
    }
   ],
   "source": [
    "df_hing_eng = pd.read_pickle('dataset/hinglish_english_tweet_ids_data.pkl')\n",
    "#print(df_hing_eng.columns)\n",
    "#print(df_hing_eng[['tweet_text']])\n",
    "#df_hing_eng = df_hing_eng['tweet_text']\n",
    "df_hing_eng = df_hing_eng[['tweet_text']].copy()\n",
    "print(len(df_hing_eng))\n",
    "print(df_hing_eng.columns)"
   ]
  },
  {
   "cell_type": "code",
   "execution_count": 3,
   "id": "cb24c788",
   "metadata": {},
   "outputs": [
    {
     "name": "stdout",
     "output_type": "stream",
     "text": [
      "17695\n",
      "                                               tweet_text\n",
      "368     Chitti ai hai ai hai chitthi ai hai = I have m...\n",
      "372     Chitti ai hai ai hai chitthi ai hai = I have m...\n",
      "393                    Kim Kardashian is virgin. #sarcasm\n",
      "394                    Kim Kardashian is virgin. #sarcasm\n",
      "423                    Kim Kardashian is virgin. #sarcasm\n",
      "...                                                   ...\n",
      "422093                                                 hi\n",
      "422100                                   is going to bed.\n",
      "422121                                             nothin\n",
      "422141                                           wakes up\n",
      "422251                                      in the office\n",
      "\n",
      "[17695 rows x 1 columns]\n"
     ]
    }
   ],
   "source": [
    "#finds the duplicate rows in the unlabeled Hinglish-English data\n",
    "\n",
    "duplicate_1 = df_hing_eng[df_hing_eng.duplicated(keep='first')]\n",
    "print(len(duplicate_1))\n",
    "print(duplicate_1)\n",
    "#print(type(duplicate_1))"
   ]
  },
  {
   "cell_type": "code",
   "execution_count": 4,
   "id": "f46dfe08",
   "metadata": {},
   "outputs": [
    {
     "name": "stdout",
     "output_type": "stream",
     "text": [
      "404720\n",
      "0\n",
      "Index(['tweet_text'], dtype='object')\n"
     ]
    }
   ],
   "source": [
    "#removes duplicates\n",
    "\n",
    "df_hing_eng = df_hing_eng.drop_duplicates(keep='first')\n",
    "print(len(df_hing_eng))\n",
    "\n",
    "duplicate_2 = df_hing_eng[df_hing_eng.duplicated(keep='first')]\n",
    "print(len(duplicate_2))\n",
    "print(df_hing_eng.columns)"
   ]
  },
  {
   "cell_type": "code",
   "execution_count": 5,
   "id": "ff073b73",
   "metadata": {},
   "outputs": [
    {
     "name": "stdout",
     "output_type": "stream",
     "text": [
      "94788\n",
      "Index(['tweet_text', 'is_sarcastic'], dtype='object')\n"
     ]
    }
   ],
   "source": [
    "df_labeled = pd.read_pickle('dataset/data_soumyadeep.pkl')\n",
    "df_labeled = df_labeled[['tweet_text', 'is_sarcastic']].copy()\n",
    "print(len(df_labeled))\n",
    "print(df_labeled.columns)"
   ]
  },
  {
   "cell_type": "code",
   "execution_count": 6,
   "id": "d92680dc",
   "metadata": {},
   "outputs": [
    {
     "name": "stdout",
     "output_type": "stream",
     "text": [
      "2895\n",
      "                                              tweet_text  is_sarcastic\n",
      "354    RT Apna vyauhar hoga aise jal mein kamal rehat...             0\n",
      "630    @fittaymunhapka n osky baad amMi ny kha k kuch...             0\n",
      "686    RT Teen behan ke baad jo aata putra woh trekha...             0\n",
      "809    Ek aadmi pareshan ho kar Ae bhagwan aisi zinda...             1\n",
      "844    RT Teen behan ke baad jo aata putra woh trekha...             0\n",
      "...                                                  ...           ...\n",
      "94716  RT Teen behan ke baad jo aata putra woh trekha...             0\n",
      "94721  Roz badh'taa huun jahaa'n se aage // Phir wahi...             0\n",
      "94747  RT Chhoota vaibhav schooli shiksha shooro ho g...             0\n",
      "94756                                kya hoga is desh ka             0\n",
      "94763  @rjauhari lol  unka bhi mast hoga..koi recessi...             0\n",
      "\n",
      "[2895 rows x 2 columns]\n"
     ]
    }
   ],
   "source": [
    "#finds the duplicate rows in the labeled data\n",
    "\n",
    "duplicate_3 = df_labeled[df_labeled.duplicated(subset=['tweet_text'], keep='first')]\n",
    "print(len(duplicate_3))\n",
    "print(duplicate_3)"
   ]
  },
  {
   "cell_type": "code",
   "execution_count": 7,
   "id": "811e742e",
   "metadata": {},
   "outputs": [
    {
     "name": "stdout",
     "output_type": "stream",
     "text": [
      "91893\n",
      "0\n",
      "Index(['tweet_text', 'is_sarcastic'], dtype='object')\n"
     ]
    }
   ],
   "source": [
    "#removes duplicates from labeled data\n",
    "\n",
    "df_labeled = df_labeled.drop_duplicates(subset=['tweet_text'], keep='first')\n",
    "print(len(df_labeled))\n",
    "\n",
    "duplicate_4 = df_labeled[df_labeled.duplicated(keep='first')]\n",
    "print(len(duplicate_4))\n",
    "print(df_labeled.columns)"
   ]
  },
  {
   "cell_type": "code",
   "execution_count": 8,
   "id": "eb2705a5",
   "metadata": {},
   "outputs": [
    {
     "name": "stdout",
     "output_type": "stream",
     "text": [
      "                                              tweet_text  is_sarcastic\n",
      "0      @ajuonline #sarcasm Haal chaal thik thak hai-s...             1\n",
      "1               @I_Am_Hollywood - Charlie Haas? #sarcasm             1\n",
      "2                       Chetan Bhagat #epicmale #sarcasm             1\n",
      "3      @Bo_jasim86 LOOL 7atheer affaa 3allaik rgoobti...             1\n",
      "4      @FENUSF tees2al 3anek el 3afiaa 7abeeb galbe ,...             1\n",
      "...                                                  ...           ...\n",
      "54025   BHAI NEEND HEE NI ARAHI AKHIR KIA MAZAK HAI??)??             1\n",
      "54026  - Neend Toh Bachpan Mein Aaya Karti Thi..!! - ...             1\n",
      "54027  aik larki late night neend se jagi aur.. fb pe...             1\n",
      "54028  @FarahKhanAli really funny.. lagta hai.... sub...             1\n",
      "54029  @Rudeicious ab tum meri neend ka aise Mazak ur...             1\n",
      "\n",
      "[54030 rows x 2 columns]\n"
     ]
    },
    {
     "data": {
      "text/plain": [
       "54030"
      ]
     },
     "execution_count": 8,
     "metadata": {},
     "output_type": "execute_result"
    }
   ],
   "source": [
    "#finds the common rows between unlabeled Hinglish English embedding data and labeled data\n",
    "\n",
    "common_rows = pd.merge(df_hing_eng, df_labeled, how = 'inner', on=['tweet_text'])\n",
    "print(common_rows)\n",
    "len(common_rows)\n",
    "#print(type(common_rows))"
   ]
  },
  {
   "cell_type": "code",
   "execution_count": 9,
   "id": "baf8af24",
   "metadata": {},
   "outputs": [
    {
     "name": "stdout",
     "output_type": "stream",
     "text": [
      "350690\n",
      "Index(['tweet_text'], dtype='object')\n",
      "0\n"
     ]
    }
   ],
   "source": [
    "#removes all the common rows from unlabeled data\n",
    "\n",
    "#cond = df1['Email'].isin(df2['Email'])\n",
    "#df1.drop(df1[cond].index, inplace = True)\n",
    "\n",
    "common = df_hing_eng['tweet_text'].isin(df_labeled['tweet_text'])\n",
    "df_hing_eng.drop(df_hing_eng[common].index, inplace=True)\n",
    "print(len(df_hing_eng))\n",
    "print(df_hing_eng.columns)\n",
    "\n",
    "common_rows2 = pd.merge(df_hing_eng, df_labeled, how = 'inner', on=['tweet_text'])\n",
    "#print(common_rows2)\n",
    "print(len(common_rows2))"
   ]
  },
  {
   "cell_type": "code",
   "execution_count": 10,
   "id": "7e299109",
   "metadata": {},
   "outputs": [
    {
     "name": "stderr",
     "output_type": "stream",
     "text": [
      "/tmp/ipykernel_60092/2924867879.py:6: FutureWarning: The default value of regex will change from True to False in a future version.\n",
      "  source = source.str.replace(\"\\w*\\d\\w*\",\"\") #removes all words containing numbers\n",
      "/tmp/ipykernel_60092/2924867879.py:10: FutureWarning: The default value of regex will change from True to False in a future version.\n",
      "  source = source.str.replace(\"[@A-Za-z0-9_]*@[@A-Za-z0-9_]*\",\"\")\n",
      "/tmp/ipykernel_60092/2924867879.py:12: FutureWarning: The default value of regex will change from True to False in a future version.\n",
      "  source = source.str.replace(\"[#A-Za-z0-9_]*#[#A-Za-z0-9_]*\",\"\")\n",
      "/tmp/ipykernel_60092/2924867879.py:13: FutureWarning: The default value of regex will change from True to False in a future version.\n",
      "  source = source.str.replace(\"\\s+|[!$%&()*+, -./:;<=>?\\^_`{|}~]\\s*\",\" \")\n",
      "/tmp/ipykernel_60092/2924867879.py:14: FutureWarning: The default value of regex will change from True to False in a future version.\n",
      "  source = source.str.replace(\"http\\S+\",\"\")\n"
     ]
    },
    {
     "data": {
      "text/html": [
       "<div>\n",
       "<style scoped>\n",
       "    .dataframe tbody tr th:only-of-type {\n",
       "        vertical-align: middle;\n",
       "    }\n",
       "\n",
       "    .dataframe tbody tr th {\n",
       "        vertical-align: top;\n",
       "    }\n",
       "\n",
       "    .dataframe thead th {\n",
       "        text-align: right;\n",
       "    }\n",
       "</style>\n",
       "<table border=\"1\" class=\"dataframe\">\n",
       "  <thead>\n",
       "    <tr style=\"text-align: right;\">\n",
       "      <th></th>\n",
       "      <th>tweet_text</th>\n",
       "    </tr>\n",
       "  </thead>\n",
       "  <tbody>\n",
       "    <tr>\n",
       "      <th>167</th>\n",
       "      <td>dary emratiba</td>\n",
       "    </tr>\n",
       "    <tr>\n",
       "      <th>194</th>\n",
       "      <td>yograj singh  dhoni advised dd management to r...</td>\n",
       "    </tr>\n",
       "    <tr>\n",
       "      <th>200</th>\n",
       "      <td>seedhe log hai ma beta ab  crore ka ghotala ho...</td>\n",
       "    </tr>\n",
       "    <tr>\n",
       "      <th>309</th>\n",
       "      <td>ab ham khade ho gaye hain   ab ham aur bhi dar...</td>\n",
       "    </tr>\n",
       "    <tr>\n",
       "      <th>470</th>\n",
       "      <td>make up hayoona</td>\n",
       "    </tr>\n",
       "  </tbody>\n",
       "</table>\n",
       "</div>"
      ],
      "text/plain": [
       "                                            tweet_text\n",
       "167                                      dary emratiba\n",
       "194  yograj singh  dhoni advised dd management to r...\n",
       "200  seedhe log hai ma beta ab  crore ka ghotala ho...\n",
       "309  ab ham khade ho gaye hain   ab ham aur bhi dar...\n",
       "470                                    make up hayoona"
      ]
     },
     "execution_count": 10,
     "metadata": {},
     "output_type": "execute_result"
    }
   ],
   "source": [
    "#removes mentions, '#', emojis, punctuations, special chars, URLs, words containing numbers, spaces from beginning and end of tweets\n",
    "\n",
    "def data_preprocessing(source):\n",
    "    \n",
    "    source = source.str.lower() #lower case chars\n",
    "    source = source.str.replace(\"\\w*\\d\\w*\",\"\") #removes all words containing numbers\n",
    "    #source = source.str.replace(\"#\", \"\")\n",
    "    #source = source.str.replace(\"@\", \"\")\n",
    "    #source = source.str.replace(\"@[A-Za-z0-9_]+\",\"\")\n",
    "    source = source.str.replace(\"[@A-Za-z0-9_]*@[@A-Za-z0-9_]*\",\"\")\n",
    "    #source = source.str.replace(\"#[A-Za-z0-9_]+\",\"\")\n",
    "    source = source.str.replace(\"[#A-Za-z0-9_]*#[#A-Za-z0-9_]*\",\"\")\n",
    "    source = source.str.replace(\"\\s+|[!$%&()*+, -./:;<=>?\\^_`{|}~]\\s*\",\" \")\n",
    "    source = source.str.replace(\"http\\S+\",\"\")\n",
    "    \n",
    "    return source\n",
    "\n",
    "df_hing_eng['tweet_text'] = data_preprocessing(df_hing_eng['tweet_text'])\n",
    "df_hing_eng['tweet_text'] = df_hing_eng['tweet_text'].apply(lambda s: emoji.replace_emoji(s,\"\"))\n",
    "df_hing_eng['tweet_text'] = df_hing_eng['tweet_text'].str.strip()\n",
    "df_hing_eng.head()"
   ]
  },
  {
   "cell_type": "code",
   "execution_count": 11,
   "id": "af0f40a0",
   "metadata": {},
   "outputs": [
    {
     "data": {
      "text/html": [
       "<div>\n",
       "<style scoped>\n",
       "    .dataframe tbody tr th:only-of-type {\n",
       "        vertical-align: middle;\n",
       "    }\n",
       "\n",
       "    .dataframe tbody tr th {\n",
       "        vertical-align: top;\n",
       "    }\n",
       "\n",
       "    .dataframe thead th {\n",
       "        text-align: right;\n",
       "    }\n",
       "</style>\n",
       "<table border=\"1\" class=\"dataframe\">\n",
       "  <thead>\n",
       "    <tr style=\"text-align: right;\">\n",
       "      <th></th>\n",
       "      <th>tweet_text</th>\n",
       "    </tr>\n",
       "  </thead>\n",
       "  <tbody>\n",
       "    <tr>\n",
       "      <th>167</th>\n",
       "      <td>dary emratiba</td>\n",
       "    </tr>\n",
       "    <tr>\n",
       "      <th>194</th>\n",
       "      <td>yograj singh  dhoni advised dd management to r...</td>\n",
       "    </tr>\n",
       "    <tr>\n",
       "      <th>200</th>\n",
       "      <td>seedhe log hai ma beta ab  crore ka ghotala ho...</td>\n",
       "    </tr>\n",
       "    <tr>\n",
       "      <th>309</th>\n",
       "      <td>ab ham khade ho gaye hain   ab ham aur bhi dar...</td>\n",
       "    </tr>\n",
       "    <tr>\n",
       "      <th>470</th>\n",
       "      <td>make up hayoona</td>\n",
       "    </tr>\n",
       "    <tr>\n",
       "      <th>571</th>\n",
       "      <td>cut marna koi umar se seekhay  nahi seekhay in...</td>\n",
       "    </tr>\n",
       "    <tr>\n",
       "      <th>804</th>\n",
       "      <td>woh jo kar rahe haen woh desh sewa hae politic...</td>\n",
       "    </tr>\n",
       "    <tr>\n",
       "      <th>905</th>\n",
       "      <td>u r aapne chaata nahi ki tarah pehle buta ab m...</td>\n",
       "    </tr>\n",
       "    <tr>\n",
       "      <th>1077</th>\n",
       "      <td>bhai tu ek vaio mini laptop le le</td>\n",
       "    </tr>\n",
       "    <tr>\n",
       "      <th>1277</th>\n",
       "      <td>aanaayi janichirunengil kashtapettu cash undak...</td>\n",
       "    </tr>\n",
       "  </tbody>\n",
       "</table>\n",
       "</div>"
      ],
      "text/plain": [
       "                                             tweet_text\n",
       "167                                       dary emratiba\n",
       "194   yograj singh  dhoni advised dd management to r...\n",
       "200   seedhe log hai ma beta ab  crore ka ghotala ho...\n",
       "309   ab ham khade ho gaye hain   ab ham aur bhi dar...\n",
       "470                                     make up hayoona\n",
       "571   cut marna koi umar se seekhay  nahi seekhay in...\n",
       "804   woh jo kar rahe haen woh desh sewa hae politic...\n",
       "905   u r aapne chaata nahi ki tarah pehle buta ab m...\n",
       "1077                  bhai tu ek vaio mini laptop le le\n",
       "1277  aanaayi janichirunengil kashtapettu cash undak..."
      ]
     },
     "execution_count": 11,
     "metadata": {},
     "output_type": "execute_result"
    }
   ],
   "source": [
    "#removes all the rows with empty lists\n",
    "\n",
    "df_hing_eng=df_hing_eng[df_hing_eng['tweet_text'].map(lambda d: len(d)) > 0]\n",
    "df_hing_eng.head(10)"
   ]
  },
  {
   "cell_type": "code",
   "execution_count": 12,
   "id": "e208ab1b",
   "metadata": {},
   "outputs": [
    {
     "name": "stdout",
     "output_type": "stream",
     "text": [
      "['dary emratiba', 'yograj singh  dhoni advised dd management to release yuvraj   p', 'seedhe log hai ma beta ab  crore ka ghotala ho gaya hoga ab ispe court case karne ki kya jaroorat thi', 'ab ham khade ho gaye hain   ab ham aur bhi daraayenge', 'make up hayoona']\n"
     ]
    }
   ],
   "source": [
    "unlabeled_data = list(df_hing_eng['tweet_text'])\n",
    "print(unlabeled_data[0:5])"
   ]
  },
  {
   "cell_type": "code",
   "execution_count": 13,
   "id": "4e2cf35b",
   "metadata": {},
   "outputs": [
    {
     "name": "stdout",
     "output_type": "stream",
     "text": [
      "209616\n"
     ]
    }
   ],
   "source": [
    "#finds the unique words in the unlabeled data\n",
    "\n",
    "unique_words = set()\n",
    "df_hing_eng['tweet_text'].str.lower().str.split().apply(unique_words.update)\n",
    "unique_words = list(unique_words)\n",
    "#print(unique_words)\n",
    "#print('---------------')\n",
    "print(len(unique_words))"
   ]
  },
  {
   "cell_type": "code",
   "execution_count": 14,
   "id": "997a9653",
   "metadata": {},
   "outputs": [
    {
     "name": "stderr",
     "output_type": "stream",
     "text": [
      "Some weights of the model checkpoint at bert-base-multilingual-cased were not used when initializing BertModel: ['cls.predictions.transform.dense.bias', 'cls.predictions.transform.LayerNorm.weight', 'cls.seq_relationship.weight', 'cls.predictions.transform.dense.weight', 'cls.predictions.decoder.weight', 'cls.predictions.bias', 'cls.seq_relationship.bias', 'cls.predictions.transform.LayerNorm.bias']\n",
      "- This IS expected if you are initializing BertModel from the checkpoint of a model trained on another task or with another architecture (e.g. initializing a BertForSequenceClassification model from a BertForPreTraining model).\n",
      "- This IS NOT expected if you are initializing BertModel from the checkpoint of a model that you expect to be exactly identical (initializing a BertForSequenceClassification model from a BertForSequenceClassification model).\n"
     ]
    }
   ],
   "source": [
    "#--->don't run it now\n",
    "# MULTILINGUAL BERT\n",
    "\n",
    "from transformers import BertTokenizer, BertModel\n",
    "#import torch\n",
    "\n",
    "# Load pre-trained model tokenizer and model\n",
    "tokenizer = BertTokenizer.from_pretrained('bert-base-multilingual-cased')\n",
    "model = BertModel.from_pretrained('bert-base-multilingual-cased')"
   ]
  },
  {
   "cell_type": "code",
   "execution_count": 15,
   "id": "3c5d0a2c",
   "metadata": {},
   "outputs": [
    {
     "name": "stderr",
     "output_type": "stream",
     "text": [
      "100%|██████████████████████████████████| 10956/10956 [14:08:32<00:00,  4.65s/it]\n"
     ]
    }
   ],
   "source": [
    "#--->don't run it now\n",
    "# Define batch size\n",
    "batch_size = 32\n",
    "\n",
    "# Tokenize and encode input data in batches\n",
    "encoded_inputs = []\n",
    "for i in range(0, len(unlabeled_data), batch_size):\n",
    "    inputs = unlabeled_data[i:i+batch_size]\n",
    "    encoded_inputs.append(tokenizer.batch_encode_plus(inputs, padding=True, truncation=True, return_tensors=\"pt\"))\n",
    "\n",
    "# Generate embeddings for each batch\n",
    "embeddings = []\n",
    "for encoded_input in tqdm(encoded_inputs):\n",
    "    with torch.no_grad():\n",
    "        model_output = model(**encoded_input)\n",
    "    batch_embeddings = model_output.last_hidden_state.mean(dim=1)\n",
    "    embeddings.append(batch_embeddings)\n",
    "\n",
    "#print(embeddings)\n",
    "#print(\"--------------------\")\n",
    "# Concatenate the embeddings from all batches into a single tensor\n",
    "embeddings = torch.cat(embeddings, dim=0)\n",
    "#print(embeddings)\n",
    "\n",
    "# Save the embeddings tensor\n",
    "torch.save(embeddings, 'multi_bert_embeddings_hing_eng.npy')\n",
    "\n",
    "# Load the embeddings tensor\n",
    "#embeddings = torch.load('multi_bert_embeddings_hing_eng.npy')\n"
   ]
  },
  {
   "cell_type": "code",
   "execution_count": 16,
   "id": "59c0e3f2",
   "metadata": {},
   "outputs": [
    {
     "name": "stdout",
     "output_type": "stream",
     "text": [
      "<numpy.lib.npyio.NpzFile object at 0x7f72cff18160>\n"
     ]
    }
   ],
   "source": [
    "# Load the embeddings tensor\n",
    "embeddings = np.load('multi_bert_embeddings_hing_eng.npy')\n",
    "print(embeddings)"
   ]
  },
  {
   "cell_type": "code",
   "execution_count": 17,
   "id": "2d2b1ba8",
   "metadata": {},
   "outputs": [
    {
     "name": "stderr",
     "output_type": "stream",
     "text": [
      "2023-05-10 16:21:52.840190: W tensorflow/stream_executor/platform/default/dso_loader.cc:64] Could not load dynamic library 'libcuda.so.1'; dlerror: libcuda.so.1: cannot open shared object file: No such file or directory\n",
      "2023-05-10 16:21:52.869362: W tensorflow/stream_executor/cuda/cuda_driver.cc:269] failed call to cuInit: UNKNOWN ERROR (303)\n",
      "2023-05-10 16:21:52.961047: I tensorflow/stream_executor/cuda/cuda_diagnostics.cc:156] kernel driver does not appear to be running on this host (user-PC): /proc/driver/nvidia/version does not exist\n",
      "2023-05-10 16:21:54.771441: I tensorflow/core/platform/cpu_feature_guard.cc:193] This TensorFlow binary is optimized with oneAPI Deep Neural Network Library (oneDNN) to use the following CPU instructions in performance-critical operations:  AVX2 FMA\n",
      "To enable them in other operations, rebuild TensorFlow with the appropriate compiler flags.\n"
     ]
    },
    {
     "name": "stdout",
     "output_type": "stream",
     "text": [
      "(119547, 768)\n",
      "119547\n",
      "<class 'numpy.ndarray'>\n",
      "[[ 0.02595074 -0.00617341 -0.00409975 ...  0.02965234  0.02417551\n",
      "   0.01970279]\n",
      " [ 0.01038065 -0.0136286   0.00672081 ...  0.01237162  0.0267217\n",
      "   0.03370738]\n",
      " [ 0.0220679  -0.00360613  0.01932366 ...  0.0069061   0.026809\n",
      "   0.00498276]\n",
      " ...\n",
      " [ 0.00684139  0.01885802  0.02666426 ...  0.02292391  0.06465269\n",
      "   0.04373793]\n",
      " [ 0.0183579   0.01480132  0.02434449 ...  0.03205629  0.00708906\n",
      "   0.02039703]\n",
      " [ 0.02139908  0.01879423 -0.01343376 ... -0.00597953  0.00583893\n",
      "  -0.00586251]]\n",
      "tf.Tensor(\n",
      "[[ 0.02595074 -0.00617341 -0.00409975 ...  0.02965234  0.02417551\n",
      "   0.01970279]\n",
      " [ 0.01038065 -0.0136286   0.00672081 ...  0.01237162  0.0267217\n",
      "   0.03370738]\n",
      " [ 0.0220679  -0.00360613  0.01932366 ...  0.0069061   0.026809\n",
      "   0.00498276]\n",
      " ...\n",
      " [ 0.00684139  0.01885802  0.02666426 ...  0.02292391  0.06465269\n",
      "   0.04373793]\n",
      " [ 0.0183579   0.01480132  0.02434449 ...  0.03205629  0.00708906\n",
      "   0.02039703]\n",
      " [ 0.02139908  0.01879423 -0.01343376 ... -0.00597953  0.00583893\n",
      "  -0.00586251]], shape=(119547, 768), dtype=float32)\n",
      "(119547, 768)\n"
     ]
    }
   ],
   "source": [
    "embeddings = tf.concat(embeddings, axis=0) \n",
    "#print(embeddings_new)\n",
    "#embeddings_new = embeddings_new.cpu().detach().numpy()\n",
    "embedding_matrix = model.embeddings.word_embeddings.weight\n",
    "embedding_matrix = embedding_matrix.cpu().detach().numpy()\n",
    "print(embedding_matrix.shape)\n",
    "print(embedding_matrix.shape[0])\n",
    "print(type(embedding_matrix))\n",
    "print(embedding_matrix)\n",
    "embed_tensor = tf.convert_to_tensor(embedding_matrix, dtype=tf.float32)\n",
    "print(embed_tensor)\n",
    "print(embed_tensor.shape)"
   ]
  },
  {
   "cell_type": "code",
   "execution_count": 18,
   "id": "e177d261",
   "metadata": {},
   "outputs": [
    {
     "name": "stdout",
     "output_type": "stream",
     "text": [
      "(119547, 300)\n",
      "<class 'numpy.ndarray'>\n",
      "[[-4.91974814 -1.61339179 -0.63827766 ...  0.0508665   0.25890825\n",
      "  -0.2667432 ]\n",
      " [-4.89830028 -1.6432148  -0.70061465 ...  0.35355144 -0.04834529\n",
      "   0.14917765]\n",
      " [-4.60616484 -1.67285847 -0.75213217 ...  0.10452468 -0.152253\n",
      "   0.12035251]\n",
      " ...\n",
      " [-4.10969564 -2.58837585 -1.46543568 ...  0.14412639 -0.26956225\n",
      "   0.22987172]\n",
      " [-4.24502679 -1.54853605 -1.03434299 ... -0.10323729 -0.14300529\n",
      "  -0.58130644]\n",
      " [-4.06131619 -1.74704907 -1.1756017  ...  0.17205793 -0.82227221\n",
      "  -0.14034306]]\n"
     ]
    }
   ],
   "source": [
    "#PCA\n",
    "\n",
    "# Scale data before applying PCA\n",
    "scaling=StandardScaler()\n",
    " \n",
    "# Use fit and transform method\n",
    "scaling.fit(embed_tensor)\n",
    "scaled_tensor=scaling.transform(embed_tensor)\n",
    " \n",
    "# Set the n_components=300\n",
    "principal=PCA(n_components=300)\n",
    "principal.fit(scaled_tensor)\n",
    "pca_tensor=principal.transform(scaled_tensor)\n",
    " \n",
    "# Check the dimensions of data after PCA\n",
    "print(pca_tensor.shape)\n",
    "print(type(pca_tensor))\n",
    "print(pca_tensor)"
   ]
  },
  {
   "cell_type": "code",
   "execution_count": 19,
   "id": "dd1939ec",
   "metadata": {},
   "outputs": [
    {
     "name": "stdout",
     "output_type": "stream",
     "text": [
      "                                          tweet_text  is_sarcastic\n",
      "0  LOL !  BC badaa gaandu hai to ! so jaa lodu ! ...             1\n",
      "1  @OFFICIAL_FC_PAK apni sakh khud sambhalen aur ...             0\n",
      "2  Ek aadmi pareshan ho kar Ae bhagwan aisi zinda...             1\n",
      "3  Lol RT @ThePrachi: @shrikhande Who can sing a ...             1\n",
      "4  @idrinkblueblood tu ol's kar rahi ho kya? Kya ...             0\n",
      "91893\n"
     ]
    }
   ],
   "source": [
    "print(df_labeled.head())\n",
    "print(len(df_labeled))"
   ]
  },
  {
   "cell_type": "code",
   "execution_count": 20,
   "id": "7d4f15c4",
   "metadata": {},
   "outputs": [
    {
     "name": "stderr",
     "output_type": "stream",
     "text": [
      "/tmp/ipykernel_60092/3018622983.py:6: FutureWarning: The default value of regex will change from True to False in a future version.\n",
      "  source = source.str.replace(\"\\w*\\d\\w*\",\"\") #removes all words containing numbers\n",
      "/tmp/ipykernel_60092/3018622983.py:10: FutureWarning: The default value of regex will change from True to False in a future version.\n",
      "  source = source.str.replace(\"[@A-Za-z0-9_]*@[@A-Za-z0-9_]*\",\"\")\n",
      "/tmp/ipykernel_60092/3018622983.py:12: FutureWarning: The default value of regex will change from True to False in a future version.\n",
      "  source = source.str.replace(\"[#A-Za-z0-9_]*#[#A-Za-z0-9_]*\",\"\")\n",
      "/tmp/ipykernel_60092/3018622983.py:13: FutureWarning: The default value of regex will change from True to False in a future version.\n",
      "  source = source.str.replace(\"\\s+|[!$%&()*+, -./:;<=>?\\^_`{|}~]\\s*\",\" \")\n",
      "/tmp/ipykernel_60092/3018622983.py:14: FutureWarning: The default value of regex will change from True to False in a future version.\n",
      "  source = source.str.replace(\"http\\S+\",\"\")\n"
     ]
    },
    {
     "data": {
      "text/html": [
       "<div>\n",
       "<style scoped>\n",
       "    .dataframe tbody tr th:only-of-type {\n",
       "        vertical-align: middle;\n",
       "    }\n",
       "\n",
       "    .dataframe tbody tr th {\n",
       "        vertical-align: top;\n",
       "    }\n",
       "\n",
       "    .dataframe thead th {\n",
       "        text-align: right;\n",
       "    }\n",
       "</style>\n",
       "<table border=\"1\" class=\"dataframe\">\n",
       "  <thead>\n",
       "    <tr style=\"text-align: right;\">\n",
       "      <th></th>\n",
       "      <th>tweet_text</th>\n",
       "    </tr>\n",
       "  </thead>\n",
       "  <tbody>\n",
       "    <tr>\n",
       "      <th>0</th>\n",
       "      <td>lol  bc badaa gaandu hai to  so jaa lodu  tere...</td>\n",
       "    </tr>\n",
       "    <tr>\n",
       "      <th>1</th>\n",
       "      <td>apni sakh khud sambhalen aur kisi ka saath na ...</td>\n",
       "    </tr>\n",
       "    <tr>\n",
       "      <th>2</th>\n",
       "      <td>ek aadmi pareshan ho kar ae bhagwan aisi zinda...</td>\n",
       "    </tr>\n",
       "    <tr>\n",
       "      <th>3</th>\n",
       "      <td>lol rt  who can sing a group song alone raavan...</td>\n",
       "    </tr>\n",
       "    <tr>\n",
       "      <th>4</th>\n",
       "      <td>tu ol s kar rahi ho kya kya hoga tere kaam sir...</td>\n",
       "    </tr>\n",
       "  </tbody>\n",
       "</table>\n",
       "</div>"
      ],
      "text/plain": [
       "                                          tweet_text\n",
       "0  lol  bc badaa gaandu hai to  so jaa lodu  tere...\n",
       "1  apni sakh khud sambhalen aur kisi ka saath na ...\n",
       "2  ek aadmi pareshan ho kar ae bhagwan aisi zinda...\n",
       "3  lol rt  who can sing a group song alone raavan...\n",
       "4  tu ol s kar rahi ho kya kya hoga tere kaam sir..."
      ]
     },
     "execution_count": 20,
     "metadata": {},
     "output_type": "execute_result"
    }
   ],
   "source": [
    "#removes mentions, '#', emojis, punctuations, special chars, URLs, words containing numbers, spaces from beginning and end of tweets\n",
    "\n",
    "def data_preprocessing(source):\n",
    "    \n",
    "    source = source.str.lower() #lower case chars\n",
    "    source = source.str.replace(\"\\w*\\d\\w*\",\"\") #removes all words containing numbers\n",
    "    #source = source.str.replace(\"#\", \"\")\n",
    "    #source = source.str.replace(\"@\", \"\")\n",
    "    #source = source.str.replace(\"@[A-Za-z0-9_]+\",\"\")\n",
    "    source = source.str.replace(\"[@A-Za-z0-9_]*@[@A-Za-z0-9_]*\",\"\")\n",
    "    #source = source.str.replace(\"#[A-Za-z0-9_]+\",\"\")\n",
    "    source = source.str.replace(\"[#A-Za-z0-9_]*#[#A-Za-z0-9_]*\",\"\")\n",
    "    source = source.str.replace(\"\\s+|[!$%&()*+, -./:;<=>?\\^_`{|}~]\\s*\",\" \")\n",
    "    source = source.str.replace(\"http\\S+\",\"\")\n",
    "    \n",
    "    return source\n",
    "\n",
    "df_labeled['tweet_text'] = data_preprocessing(df_labeled['tweet_text'])\n",
    "df_labeled['tweet_text'] = df_labeled['tweet_text'].apply(lambda s: emoji.replace_emoji(s,\"\"))\n",
    "df_labeled['tweet_text'] = df_labeled['tweet_text'].str.strip()\n",
    "df_labeled[['tweet_text']].head()"
   ]
  },
  {
   "cell_type": "code",
   "execution_count": 21,
   "id": "d305d229",
   "metadata": {},
   "outputs": [
    {
     "data": {
      "text/html": [
       "<div>\n",
       "<style scoped>\n",
       "    .dataframe tbody tr th:only-of-type {\n",
       "        vertical-align: middle;\n",
       "    }\n",
       "\n",
       "    .dataframe tbody tr th {\n",
       "        vertical-align: top;\n",
       "    }\n",
       "\n",
       "    .dataframe thead th {\n",
       "        text-align: right;\n",
       "    }\n",
       "</style>\n",
       "<table border=\"1\" class=\"dataframe\">\n",
       "  <thead>\n",
       "    <tr style=\"text-align: right;\">\n",
       "      <th></th>\n",
       "      <th>tweet_text</th>\n",
       "      <th>is_sarcastic</th>\n",
       "    </tr>\n",
       "  </thead>\n",
       "  <tbody>\n",
       "    <tr>\n",
       "      <th>0</th>\n",
       "      <td>lol  bc badaa gaandu hai to  so jaa lodu  tere...</td>\n",
       "      <td>1</td>\n",
       "    </tr>\n",
       "    <tr>\n",
       "      <th>1</th>\n",
       "      <td>apni sakh khud sambhalen aur kisi ka saath na ...</td>\n",
       "      <td>0</td>\n",
       "    </tr>\n",
       "    <tr>\n",
       "      <th>2</th>\n",
       "      <td>ek aadmi pareshan ho kar ae bhagwan aisi zinda...</td>\n",
       "      <td>1</td>\n",
       "    </tr>\n",
       "    <tr>\n",
       "      <th>3</th>\n",
       "      <td>lol rt  who can sing a group song alone raavan...</td>\n",
       "      <td>1</td>\n",
       "    </tr>\n",
       "    <tr>\n",
       "      <th>4</th>\n",
       "      <td>tu ol s kar rahi ho kya kya hoga tere kaam sir...</td>\n",
       "      <td>0</td>\n",
       "    </tr>\n",
       "  </tbody>\n",
       "</table>\n",
       "</div>"
      ],
      "text/plain": [
       "                                          tweet_text  is_sarcastic\n",
       "0  lol  bc badaa gaandu hai to  so jaa lodu  tere...             1\n",
       "1  apni sakh khud sambhalen aur kisi ka saath na ...             0\n",
       "2  ek aadmi pareshan ho kar ae bhagwan aisi zinda...             1\n",
       "3  lol rt  who can sing a group song alone raavan...             1\n",
       "4  tu ol s kar rahi ho kya kya hoga tere kaam sir...             0"
      ]
     },
     "execution_count": 21,
     "metadata": {},
     "output_type": "execute_result"
    }
   ],
   "source": [
    "df_labeled.head()"
   ]
  },
  {
   "cell_type": "code",
   "execution_count": 23,
   "id": "0b1cc90d",
   "metadata": {},
   "outputs": [
    {
     "name": "stdout",
     "output_type": "stream",
     "text": [
      "93958\n"
     ]
    }
   ],
   "source": [
    "#finds the unique words in the labeled data\n",
    "\n",
    "unique_words = set()\n",
    "df_labeled['tweet_text'].str.lower().str.split().apply(unique_words.update)\n",
    "unique_words = list(unique_words)\n",
    "#print(unique_words)\n",
    "#print('---------------')\n",
    "print(len(unique_words))"
   ]
  },
  {
   "cell_type": "code",
   "execution_count": 24,
   "id": "ac217f9a",
   "metadata": {},
   "outputs": [
    {
     "name": "stdout",
     "output_type": "stream",
     "text": [
      "['lol  bc badaa gaandu hai to  so jaa lodu  tere se kuch nahi hoga', 'apni sakh khud sambhalen aur kisi ka saath na dein yehi log baad mein badnam karte hein inko lage rhne dein', 'ek aadmi pareshan ho kar ae bhagwan aisi zindagi se to maut achi tabhi yamdut aa gaya bola chalo aadmi bhagwan ab kya insaan mazak b na k', 'lol rt  who can sing a group song alone raavan har baar rajnikanth thodi hota hai yaar', 'tu ol s kar rahi ho kya kya hoga tere kaam sirf music aur tv dekhna    p']\n"
     ]
    }
   ],
   "source": [
    "labeled_data = list(df_labeled['tweet_text'])\n",
    "print(labeled_data[0:5])\n"
   ]
  },
  {
   "cell_type": "code",
   "execution_count": 25,
   "id": "6d5884da",
   "metadata": {},
   "outputs": [
    {
     "name": "stderr",
     "output_type": "stream",
     "text": [
      "2023-05-10 16:42:19.837555: W tensorflow/core/framework/cpu_allocator_impl.cc:82] Allocation of 131737600 exceeds 10% of free system memory.\n"
     ]
    },
    {
     "name": "stdout",
     "output_type": "stream",
     "text": [
      "tf.Tensor(\n",
      "[[  101. 57087. 17714. ...     0.     0.     0.]\n",
      " [  101. 63923. 13998. ...     0.     0.     0.]\n",
      " [  101. 21695. 10161. ...     0.     0.     0.]\n",
      " ...\n",
      " [  101. 10148. 10457. ...     0.     0.     0.]\n",
      " [  101. 16334. 13158. ...     0.     0.     0.]\n",
      " [  101. 19540. 12541. ...     0.     0.     0.]], shape=(64325, 512), dtype=float32)\n",
      "----------------------------\n",
      "tf.Tensor(\n",
      "[[  101. 10398. 10340. ...     0.     0.     0.]\n",
      " [  101.   178. 14383. ...     0.     0.     0.]\n",
      " [  101. 11499. 48502. ...     0.     0.     0.]\n",
      " ...\n",
      " [  101. 52661. 10107. ...     0.     0.     0.]\n",
      " [  101. 10192. 12923. ...     0.     0.     0.]\n",
      " [  101. 28335. 10410. ...     0.     0.     0.]], shape=(27568, 512), dtype=float32)\n"
     ]
    }
   ],
   "source": [
    "def tokenize_labeled_data(data):\n",
    "    tokenized_sentences = []\n",
    "    for sentence in data:\n",
    "        # Apply the tokenizer to each sentence to obtain its tokens\n",
    "        tokens = tokenizer.encode(sentence, add_special_tokens=True, return_tensors =\"tf\", padding='max_length', truncation='only_first')\n",
    "        # Append the tokenized sentence to the list\n",
    "        tokenized_sentences.append(tokens)\n",
    "\n",
    "    token_tensor = tf.convert_to_tensor(tokenized_sentences, dtype=tf.float32)\n",
    "    #token_tensor = tf.convert_to_tensor(tokenized_sentences)\n",
    "    #print(token_tensor)\n",
    "    #print(len(token_tensor))\n",
    "    #print(type(token_tensor))\n",
    "    #print('----------------------------')\n",
    "    token_tensor = token_tensor[:, 0, :]\n",
    "    #print(token_tensor)\n",
    "    #print(len(token_tensor))\n",
    "    #print(type(token_tensor))\n",
    "    return token_tensor\n",
    "\n",
    "x_train,x_test,y_train,y_test=train_test_split(labeled_data, df_labeled['is_sarcastic'], test_size=0.30, random_state=42)\n",
    "training_tensor = tokenize_labeled_data(x_train)\n",
    "test_tensor = tokenize_labeled_data(x_test)\n",
    "\n",
    "print(training_tensor)\n",
    "print('----------------------------')\n",
    "print(test_tensor)"
   ]
  },
  {
   "cell_type": "code",
   "execution_count": 26,
   "id": "2e9175e3",
   "metadata": {},
   "outputs": [
    {
     "name": "stdout",
     "output_type": "stream",
     "text": [
      "Max length---> 512\n",
      "Mean length---> 512.0\n",
      "Standard Deviation of length---> 0.0\n",
      "Maximum length of the sequence---> 512\n"
     ]
    }
   ],
   "source": [
    "length = []\n",
    "#for row in x_train:\n",
    "for row in training_tensor:\n",
    "    #print(row)\n",
    "    #print(len(row))\n",
    "    #count = count+1\n",
    "    #if len(row)>maxi:\n",
    "    #print(len(row))\n",
    "    length.append(len(row))\n",
    "        \n",
    "#print(length)\n",
    "print(\"Max length--->\", max(length))\n",
    "print(\"Mean length--->\", np.mean(length))\n",
    "print(\"Standard Deviation of length--->\", np.std(length))\n",
    "\n",
    "#maxi = max(length)\n",
    "maxi = np.round(np.mean(length) + np.std(length)).astype(int)\n",
    "print(\"Maximum length of the sequence--->\", maxi)"
   ]
  },
  {
   "cell_type": "code",
   "execution_count": 27,
   "id": "51f990f2",
   "metadata": {},
   "outputs": [
    {
     "name": "stdout",
     "output_type": "stream",
     "text": [
      "tf.Tensor([0. 1. 1. ... 0. 0. 1.], shape=(64325,), dtype=float32)\n",
      "<class 'tensorflow.python.framework.ops.EagerTensor'>\n",
      "------------------------\n",
      "tf.Tensor([0. 1. 1. ... 0. 0. 0.], shape=(27568,), dtype=float32)\n",
      "<class 'tensorflow.python.framework.ops.EagerTensor'>\n"
     ]
    }
   ],
   "source": [
    "#labels = list(df_labeled['is_sarcastic'])\n",
    "#print(labels)\n",
    "#print('------------------------')\n",
    "#print(labeled_data)\n",
    "#print(type(labels))\n",
    "#labels = np.array(labels).astype('float32') \n",
    "#labels = tf.cast(labels, dtype=tf.float32)\n",
    "y_train_lst = list(y_train)\n",
    "y_test_lst = list(y_test)\n",
    "training_labels = tf.convert_to_tensor(y_train_lst, dtype=tf.float32)\n",
    "test_labels = tf.convert_to_tensor(y_test_lst, dtype=tf.float32)\n",
    "print(training_labels)\n",
    "print(type(training_labels))\n",
    "print('------------------------')\n",
    "print(test_labels)\n",
    "print(type(test_labels))"
   ]
  },
  {
   "cell_type": "code",
   "execution_count": 28,
   "id": "f0127d5e",
   "metadata": {},
   "outputs": [],
   "source": [
    "#define callbacks\n",
    "early_stopping = EarlyStopping(monitor='val_loss', min_delta=0.01, patience=4, verbose=1)\n",
    "callbacks_list = [early_stopping]"
   ]
  },
  {
   "cell_type": "code",
   "execution_count": 29,
   "id": "40a3f72d",
   "metadata": {},
   "outputs": [],
   "source": [
    "#Attention BiLSTM\n",
    "\n",
    "from keras import backend as K\n",
    "#from keras.engine.topology import Layer\n",
    "from keras.layers import Layer\n",
    "from keras import initializers, regularizers, constraints\n",
    "\n",
    "\n",
    "class Attention(Layer):\n",
    "    def __init__(self, step_dim,\n",
    "                 W_regularizer=None, b_regularizer=None,\n",
    "                 W_constraint=None, b_constraint=None,\n",
    "                 bias=True, **kwargs):\n",
    "        self.supports_masking = True\n",
    "        self.init = initializers.get('glorot_uniform')\n",
    "\n",
    "        self.W_regularizer = regularizers.get(W_regularizer)\n",
    "        self.b_regularizer = regularizers.get(b_regularizer)\n",
    "\n",
    "        self.W_constraint = constraints.get(W_constraint)\n",
    "        self.b_constraint = constraints.get(b_constraint)\n",
    "\n",
    "        self.bias = bias\n",
    "        self.step_dim = step_dim\n",
    "        self.features_dim = 0\n",
    "        super(Attention, self).__init__(**kwargs)\n",
    "\n",
    "    def build(self, input_shape):\n",
    "        assert len(input_shape) == 3\n",
    "\n",
    "        self.W = self.add_weight( shape=(input_shape[-1],),\n",
    "                                 initializer=self.init,\n",
    "                                 name='{}_W'.format(self.name),\n",
    "                                 regularizer=self.W_regularizer,\n",
    "                                 constraint=self.W_constraint)\n",
    "        self.features_dim = input_shape[-1]\n",
    "        #print(self.name)\n",
    "        if self.bias:\n",
    "            self.b = self.add_weight(shape=(input_shape[1],),\n",
    "                                     initializer='zero',\n",
    "                                     name='{}_b'.format(self.name),\n",
    "                                     regularizer=self.b_regularizer,\n",
    "                                     constraint=self.b_constraint)\n",
    "        else:\n",
    "            self.b = None\n",
    "\n",
    "        self.built = True\n",
    "\n",
    "    def compute_mask(self, input, input_mask=None):\n",
    "        return None\n",
    "\n",
    "    def call(self, x, mask=None):\n",
    "        features_dim = self.features_dim\n",
    "        step_dim = self.step_dim\n",
    "\n",
    "        eij = K.reshape(K.dot(K.reshape(x, (-1, features_dim)),\n",
    "                        K.reshape(self.W, (features_dim, 1))), (-1, step_dim))\n",
    "\n",
    "        if self.bias:\n",
    "            eij += self.b\n",
    "\n",
    "        eij = K.tanh(eij)\n",
    "\n",
    "        a = K.exp(eij)\n",
    "\n",
    "        if mask is not None:\n",
    "            a *= K.cast(mask, K.floatx())\n",
    "\n",
    "        a /= K.cast(K.sum(a, axis=1, keepdims=True) + K.epsilon(), K.floatx())\n",
    "\n",
    "        a = K.expand_dims(a)\n",
    "        weighted_input = x * a\n",
    "        return K.sum(weighted_input, axis=1)\n",
    "\n",
    "    def compute_output_shape(self, input_shape):\n",
    "        return input_shape[0],  self.features_dim"
   ]
  },
  {
   "cell_type": "code",
   "execution_count": 30,
   "id": "c3d56830",
   "metadata": {},
   "outputs": [
    {
     "name": "stderr",
     "output_type": "stream",
     "text": [
      "2023-05-10 16:44:34.678425: W tensorflow/core/framework/cpu_allocator_impl.cc:82] Allocation of 143456400 exceeds 10% of free system memory.\n",
      "2023-05-10 16:44:48.706487: W tensorflow/core/framework/cpu_allocator_impl.cc:82] Allocation of 143456400 exceeds 10% of free system memory.\n",
      "2023-05-10 16:44:48.871879: W tensorflow/core/framework/cpu_allocator_impl.cc:82] Allocation of 143456400 exceeds 10% of free system memory.\n"
     ]
    },
    {
     "name": "stdout",
     "output_type": "stream",
     "text": [
      "Model: \"model\"\n",
      "_________________________________________________________________\n",
      " Layer (type)                Output Shape              Param #   \n",
      "=================================================================\n",
      " input_1 (InputLayer)        [(None, 512)]             0         \n",
      "                                                                 \n",
      " embedding (Embedding)       (None, 512, 300)          35864100  \n",
      "                                                                 \n",
      " bidirectional (Bidirectiona  (None, 512, 300)         541200    \n",
      " l)                                                              \n",
      "                                                                 \n",
      " attention (Attention)       (None, 300)               812       \n",
      "                                                                 \n",
      " dense (Dense)               (None, 64)                19264     \n",
      "                                                                 \n",
      " dense_1 (Dense)             (None, 1)                 65        \n",
      "                                                                 \n",
      "=================================================================\n",
      "Total params: 36,425,441\n",
      "Trainable params: 561,341\n",
      "Non-trainable params: 35,864,100\n",
      "_________________________________________________________________\n"
     ]
    },
    {
     "name": "stderr",
     "output_type": "stream",
     "text": [
      "/home/user/anaconda3/lib/python3.9/site-packages/keras/optimizers/optimizer_v2/adam.py:110: UserWarning: The `lr` argument is deprecated, use `learning_rate` instead.\n",
      "  super(Adam, self).__init__(name, **kwargs)\n"
     ]
    }
   ],
   "source": [
    "lstm_out1 = 150\n",
    "embed_dim = 300\n",
    "\n",
    "inp = Input(shape=(maxi, ))\n",
    "x = Embedding(pca_tensor.shape[0], embed_dim, weights=[pca_tensor], trainable=False)(inp)\n",
    "x = Bidirectional(LSTM(lstm_out1, return_sequences=True, dropout=0.20, recurrent_dropout=0.20))(x)\n",
    "x = Attention(maxi)(x)\n",
    "x = Dense(64, activation=\"relu\")(x)\n",
    "#x = Dropout(0.25)(x)\n",
    "x = Dense(1, activation=\"sigmoid\")(x)\n",
    "model = Model(inputs=inp, outputs=x)\n",
    "\n",
    "adam = Adam(lr=0.001, beta_1=0.9, beta_2=0.999, epsilon=1e-08, decay=0.0)\n",
    "model.compile(loss='binary_crossentropy',optimizer='adam', metrics=['accuracy'])\n",
    "model.summary()"
   ]
  },
  {
   "cell_type": "code",
   "execution_count": 31,
   "id": "784d21e1",
   "metadata": {},
   "outputs": [
    {
     "name": "stdout",
     "output_type": "stream",
     "text": [
      "Epoch 1/20\n"
     ]
    },
    {
     "name": "stderr",
     "output_type": "stream",
     "text": [
      "2023-05-10 16:46:01.155039: W tensorflow/core/framework/cpu_allocator_impl.cc:82] Allocation of 143456400 exceeds 10% of free system memory.\n"
     ]
    },
    {
     "name": "stdout",
     "output_type": "stream",
     "text": [
      "905/905 [==============================] - 9461s 10s/step - loss: 0.2038 - accuracy: 0.9242 - val_loss: 0.1252 - val_accuracy: 0.9663\n",
      "Epoch 2/20\n",
      "905/905 [==============================] - 6459s 7s/step - loss: 0.1113 - accuracy: 0.9692 - val_loss: 0.1168 - val_accuracy: 0.9702\n",
      "Epoch 3/20\n",
      "905/905 [==============================] - 5708s 6s/step - loss: 0.1014 - accuracy: 0.9711 - val_loss: 0.1113 - val_accuracy: 0.9683\n",
      "Epoch 4/20\n",
      "905/905 [==============================] - 7559s 8s/step - loss: 0.0922 - accuracy: 0.9722 - val_loss: 0.1129 - val_accuracy: 0.9678\n",
      "Epoch 5/20\n",
      "905/905 [==============================] - 6204s 7s/step - loss: 0.0844 - accuracy: 0.9742 - val_loss: 0.1136 - val_accuracy: 0.9675\n",
      "Epoch 6/20\n",
      "905/905 [==============================] - 5656s 6s/step - loss: 0.0762 - accuracy: 0.9756 - val_loss: 0.1163 - val_accuracy: 0.9646\n",
      "Epoch 7/20\n",
      "905/905 [==============================] - 4910s 5s/step - loss: 0.0669 - accuracy: 0.9781 - val_loss: 0.1173 - val_accuracy: 0.9613\n",
      "Epoch 7: early stopping\n"
     ]
    }
   ],
   "source": [
    "hist = model.fit(training_tensor, training_labels, batch_size=64, epochs=20, validation_split=0.1, shuffle=True, callbacks = callbacks_list)"
   ]
  },
  {
   "cell_type": "code",
   "execution_count": 32,
   "id": "c1680c48",
   "metadata": {},
   "outputs": [
    {
     "name": "stderr",
     "output_type": "stream",
     "text": [
      "/home/user/anaconda3/lib/python3.9/site-packages/keras/engine/functional.py:1384: CustomMaskWarning: Custom mask layers require a config and must override get_config. When loading, the custom mask layer must be passed to the custom_objects argument.\n",
      "  layer_config = serialize_layer_fn(layer)\n"
     ]
    },
    {
     "ename": "NotImplementedError",
     "evalue": "\nLayer Attention has arguments ['self', 'step_dim', 'W_regularizer', 'b_regularizer', 'W_constraint', 'b_constraint', 'bias']\nin `__init__` and therefore must override `get_config()`.\n\nExample:\n\nclass CustomLayer(keras.layers.Layer):\n    def __init__(self, arg1, arg2):\n        super().__init__()\n        self.arg1 = arg1\n        self.arg2 = arg2\n\n    def get_config(self):\n        config = super().get_config()\n        config.update({\n            \"arg1\": self.arg1,\n            \"arg2\": self.arg2,\n        })\n        return config",
     "output_type": "error",
     "traceback": [
      "\u001b[0;31m---------------------------------------------------------------------------\u001b[0m",
      "\u001b[0;31mNotImplementedError\u001b[0m                       Traceback (most recent call last)",
      "Input \u001b[0;32mIn [32]\u001b[0m, in \u001b[0;36m<cell line: 1>\u001b[0;34m()\u001b[0m\n\u001b[0;32m----> 1\u001b[0m \u001b[43mmodel\u001b[49m\u001b[38;5;241;43m.\u001b[39;49m\u001b[43msave\u001b[49m\u001b[43m(\u001b[49m\u001b[38;5;124;43m'\u001b[39;49m\u001b[38;5;124;43matt_bilstm.h5\u001b[39;49m\u001b[38;5;124;43m'\u001b[39;49m\u001b[43m)\u001b[49m\n",
      "File \u001b[0;32m~/anaconda3/lib/python3.9/site-packages/keras/utils/traceback_utils.py:67\u001b[0m, in \u001b[0;36mfilter_traceback.<locals>.error_handler\u001b[0;34m(*args, **kwargs)\u001b[0m\n\u001b[1;32m     65\u001b[0m \u001b[38;5;28;01mexcept\u001b[39;00m \u001b[38;5;167;01mException\u001b[39;00m \u001b[38;5;28;01mas\u001b[39;00m e:  \u001b[38;5;66;03m# pylint: disable=broad-except\u001b[39;00m\n\u001b[1;32m     66\u001b[0m   filtered_tb \u001b[38;5;241m=\u001b[39m _process_traceback_frames(e\u001b[38;5;241m.\u001b[39m__traceback__)\n\u001b[0;32m---> 67\u001b[0m   \u001b[38;5;28;01mraise\u001b[39;00m e\u001b[38;5;241m.\u001b[39mwith_traceback(filtered_tb) \u001b[38;5;28;01mfrom\u001b[39;00m \u001b[38;5;28mNone\u001b[39m\n\u001b[1;32m     68\u001b[0m \u001b[38;5;28;01mfinally\u001b[39;00m:\n\u001b[1;32m     69\u001b[0m   \u001b[38;5;28;01mdel\u001b[39;00m filtered_tb\n",
      "File \u001b[0;32m~/anaconda3/lib/python3.9/site-packages/keras/engine/base_layer.py:745\u001b[0m, in \u001b[0;36mLayer.get_config\u001b[0;34m(self)\u001b[0m\n\u001b[1;32m    742\u001b[0m \u001b[38;5;66;03m# Check that either the only argument in the `__init__` is  `self`,\u001b[39;00m\n\u001b[1;32m    743\u001b[0m \u001b[38;5;66;03m# or that `get_config` has been overridden:\u001b[39;00m\n\u001b[1;32m    744\u001b[0m \u001b[38;5;28;01mif\u001b[39;00m \u001b[38;5;28mlen\u001b[39m(extra_args) \u001b[38;5;241m>\u001b[39m \u001b[38;5;241m1\u001b[39m \u001b[38;5;129;01mand\u001b[39;00m \u001b[38;5;28mhasattr\u001b[39m(\u001b[38;5;28mself\u001b[39m\u001b[38;5;241m.\u001b[39mget_config, \u001b[38;5;124m'\u001b[39m\u001b[38;5;124m_is_default\u001b[39m\u001b[38;5;124m'\u001b[39m):\n\u001b[0;32m--> 745\u001b[0m   \u001b[38;5;28;01mraise\u001b[39;00m \u001b[38;5;167;01mNotImplementedError\u001b[39;00m(textwrap\u001b[38;5;241m.\u001b[39mdedent(\u001b[38;5;124mf\u001b[39m\u001b[38;5;124m\"\"\"\u001b[39m\n\u001b[1;32m    746\u001b[0m \u001b[38;5;124m      Layer \u001b[39m\u001b[38;5;132;01m{\u001b[39;00m\u001b[38;5;28mself\u001b[39m\u001b[38;5;241m.\u001b[39m\u001b[38;5;18m__class__\u001b[39m\u001b[38;5;241m.\u001b[39m\u001b[38;5;18m__name__\u001b[39m\u001b[38;5;132;01m}\u001b[39;00m\u001b[38;5;124m has arguments \u001b[39m\u001b[38;5;132;01m{\u001b[39;00mextra_args\u001b[38;5;132;01m}\u001b[39;00m\n\u001b[1;32m    747\u001b[0m \u001b[38;5;124m      in `__init__` and therefore must override `get_config()`.\u001b[39m\n\u001b[1;32m    748\u001b[0m \n\u001b[1;32m    749\u001b[0m \u001b[38;5;124m      Example:\u001b[39m\n\u001b[1;32m    750\u001b[0m \n\u001b[1;32m    751\u001b[0m \u001b[38;5;124m      class CustomLayer(keras.layers.Layer):\u001b[39m\n\u001b[1;32m    752\u001b[0m \u001b[38;5;124m          def __init__(self, arg1, arg2):\u001b[39m\n\u001b[1;32m    753\u001b[0m \u001b[38;5;124m              super().__init__()\u001b[39m\n\u001b[1;32m    754\u001b[0m \u001b[38;5;124m              self.arg1 = arg1\u001b[39m\n\u001b[1;32m    755\u001b[0m \u001b[38;5;124m              self.arg2 = arg2\u001b[39m\n\u001b[1;32m    756\u001b[0m \n\u001b[1;32m    757\u001b[0m \u001b[38;5;124m          def get_config(self):\u001b[39m\n\u001b[1;32m    758\u001b[0m \u001b[38;5;124m              config = super().get_config()\u001b[39m\n\u001b[1;32m    759\u001b[0m \u001b[38;5;124m              config.update(\u001b[39m\u001b[38;5;130;01m{{\u001b[39;00m\n\u001b[1;32m    760\u001b[0m \u001b[38;5;124m                  \u001b[39m\u001b[38;5;124m\"\u001b[39m\u001b[38;5;124marg1\u001b[39m\u001b[38;5;124m\"\u001b[39m\u001b[38;5;124m: self.arg1,\u001b[39m\n\u001b[1;32m    761\u001b[0m \u001b[38;5;124m                  \u001b[39m\u001b[38;5;124m\"\u001b[39m\u001b[38;5;124marg2\u001b[39m\u001b[38;5;124m\"\u001b[39m\u001b[38;5;124m: self.arg2,\u001b[39m\n\u001b[1;32m    762\u001b[0m \u001b[38;5;124m              \u001b[39m\u001b[38;5;130;01m}}\u001b[39;00m\u001b[38;5;124m)\u001b[39m\n\u001b[1;32m    763\u001b[0m \u001b[38;5;124m              return config\u001b[39m\u001b[38;5;124m\"\"\"\u001b[39m))\n\u001b[1;32m    765\u001b[0m \u001b[38;5;28;01mreturn\u001b[39;00m config\n",
      "\u001b[0;31mNotImplementedError\u001b[0m: \nLayer Attention has arguments ['self', 'step_dim', 'W_regularizer', 'b_regularizer', 'W_constraint', 'b_constraint', 'bias']\nin `__init__` and therefore must override `get_config()`.\n\nExample:\n\nclass CustomLayer(keras.layers.Layer):\n    def __init__(self, arg1, arg2):\n        super().__init__()\n        self.arg1 = arg1\n        self.arg2 = arg2\n\n    def get_config(self):\n        config = super().get_config()\n        config.update({\n            \"arg1\": self.arg1,\n            \"arg2\": self.arg2,\n        })\n        return config"
     ]
    }
   ],
   "source": [
    "model.save('att_bilstm.h5') "
   ]
  },
  {
   "cell_type": "code",
   "execution_count": 33,
   "id": "81c56e82",
   "metadata": {},
   "outputs": [
    {
     "name": "stdout",
     "output_type": "stream",
     "text": [
      "862/862 [==============================] - 976s 1s/step\n",
      "Accuracy is---> 96.70269878119558\n"
     ]
    }
   ],
   "source": [
    "#model = load_model('att_bilstm.h5')\n",
    "y_pred_proba = model.predict(test_tensor)\n",
    "#print(y_pred_proba)\n",
    "#print('---------------')\n",
    "\n",
    "y_pred_class = np.round(y_pred_proba)\n",
    "y_pred_class = y_pred_class.squeeze() #makes y_pred_class 1 dim\n",
    "'''print(y_pred_class)\n",
    "print(type(y_pred_class))\n",
    "print(len(y_pred_class))\n",
    "print(len(y_test))\n",
    "print('---------------')'''\n",
    "\n",
    "acc = accuracy_score(test_labels, y_pred_class) * 100\n",
    "print(\"Accuracy is--->\", acc)"
   ]
  },
  {
   "cell_type": "code",
   "execution_count": 34,
   "id": "d4803683",
   "metadata": {},
   "outputs": [
    {
     "name": "stdout",
     "output_type": "stream",
     "text": [
      "              precision    recall  f1-score   support\n",
      "\n",
      "         0.0       0.96      0.98      0.97     13944\n",
      "         1.0       0.98      0.96      0.97     13624\n",
      "\n",
      "    accuracy                           0.97     27568\n",
      "   macro avg       0.97      0.97      0.97     27568\n",
      "weighted avg       0.97      0.97      0.97     27568\n",
      "\n"
     ]
    }
   ],
   "source": [
    "print(classification_report(test_labels, y_pred_class))"
   ]
  },
  {
   "cell_type": "code",
   "execution_count": 35,
   "id": "ff0a5f72",
   "metadata": {},
   "outputs": [
    {
     "data": {
      "image/png": "[encoded data removed]",
      "text/plain": [
       "<Figure size 432x288 with 1 Axes>"
      ]
     },
     "metadata": {
      "needs_background": "light"
     },
     "output_type": "display_data"
    }
   ],
   "source": [
    "#generate plots\n",
    "plt.figure()\n",
    "plt.plot(hist.history['loss'], lw=2.0, color='b', label='train')\n",
    "plt.plot(hist.history['val_loss'], lw=2.0, color='r', label='val')\n",
    "plt.title('CNN sentiment')\n",
    "plt.xlabel('Epochs')\n",
    "plt.ylabel('Cross-Entropy Loss')\n",
    "plt.legend(loc='upper right')\n",
    "plt.show()"
   ]
  },
  {
   "cell_type": "code",
   "execution_count": 36,
   "id": "228e71dc",
   "metadata": {},
   "outputs": [
    {
     "data": {
      "image/png": "[encoded data removed]",
      "text/plain": [
       "<Figure size 432x288 with 1 Axes>"
      ]
     },
     "metadata": {
      "needs_background": "light"
     },
     "output_type": "display_data"
    }
   ],
   "source": [
    "plt.figure()\n",
    "plt.plot(hist.history['accuracy'], lw=2.0, color='b', label='train')\n",
    "plt.plot(hist.history['val_accuracy'], lw=2.0, color='r', label='val')\n",
    "plt.title('CNN sentiment')\n",
    "plt.xlabel('Epochs')\n",
    "plt.ylabel('Accuracy')\n",
    "plt.legend(loc='upper left')\n",
    "plt.show()"
   ]
  },
  {
   "cell_type": "code",
   "execution_count": 37,
   "id": "4b4f4078",
   "metadata": {},
   "outputs": [
    {
     "data": {
      "text/plain": [
       "<sklearn.metrics._plot.confusion_matrix.ConfusionMatrixDisplay at 0x7f72d7686be0>"
      ]
     },
     "execution_count": 37,
     "metadata": {},
     "output_type": "execute_result"
    },
    {
     "data": {
      "image/png": "[encoded data removed]",
      "text/plain": [
       "<Figure size 432x288 with 2 Axes>"
      ]
     },
     "metadata": {
      "needs_background": "light"
     },
     "output_type": "display_data"
    }
   ],
   "source": [
    "#generates the confusion matrix\n",
    "\n",
    "labels = ['Sarcastic', 'Non-sarcastic']\n",
    "cm = confusion_matrix(test_labels, y_pred_class)\n",
    "ConfusionMatrixDisplay(cm, display_labels=labels).plot()"
   ]
  },
  {
   "cell_type": "code",
   "execution_count": 42,
   "id": "7d401387",
   "metadata": {},
   "outputs": [
    {
     "name": "stdout",
     "output_type": "stream",
     "text": [
      "INFO:tensorflow:Assets written to: ram://706176a4-9cbe-4fd6-84e9-97ba1d8cc918/assets\n"
     ]
    },
    {
     "name": "stderr",
     "output_type": "stream",
     "text": [
      "/home/user/anaconda3/lib/python3.9/site-packages/keras/engine/functional.py:1384: CustomMaskWarning: Custom mask layers require a config and must override get_config. When loading, the custom mask layer must be passed to the custom_objects argument.\n",
      "  layer_config = serialize_layer_fn(layer)\n",
      "/home/user/anaconda3/lib/python3.9/site-packages/keras/saving/saved_model/layer_serialization.py:112: CustomMaskWarning: Custom mask layers require a config and must override get_config. When loading, the custom mask layer must be passed to the custom_objects argument.\n",
      "  return generic_utils.serialize_keras_object(obj)\n",
      "WARNING:absl:<__main__.Attention object at 0x7f72d75f3580> has the same name 'Attention' as a built-in Keras object. Consider renaming <class '__main__.Attention'> to avoid naming conflicts when loading with `tf.keras.models.load_model`. If renaming is not possible, pass the object in the `custom_objects` parameter of the load function.\n"
     ]
    }
   ],
   "source": [
    "#saves the BERT model \n",
    "\n",
    "torch.save(model, './bert_model.pth')"
   ]
  },
  {
   "cell_type": "code",
   "execution_count": 46,
   "id": "2cab78a6",
   "metadata": {},
   "outputs": [
    {
     "data": {
      "text/plain": [
       "('./tokenizer_config.json',\n",
       " './special_tokens_map.json',\n",
       " './vocab.txt',\n",
       " './added_tokens.json')"
      ]
     },
     "execution_count": 46,
     "metadata": {},
     "output_type": "execute_result"
    }
   ],
   "source": [
    "#saves the BERT tokenizer\n",
    "\n",
    "tokenizer.save_pretrained('./')"
   ]
  },
  {
   "cell_type": "code",
   "execution_count": null,
   "id": "0122ac8d",
   "metadata": {},
   "outputs": [],
   "source": []
  }
 ],
 "metadata": {
  "kernelspec": {
   "display_name": "Python 3 (ipykernel)",
   "language": "python",
   "name": "python3"
  },
  "language_info": {
   "codemirror_mode": {
    "name": "ipython",
    "version": 3
   },
   "file_extension": ".py",
   "mimetype": "text/x-python",
   "name": "python",
   "nbconvert_exporter": "python",
   "pygments_lexer": "ipython3",
   "version": "3.9.12"
  }
 },
 "nbformat": 4,
 "nbformat_minor": 5
}
